{
  "nbformat": 4,
  "nbformat_minor": 0,
  "metadata": {
    "colab": {
      "provenance": [],
      "gpuType": "T4",
      "authorship_tag": "ABX9TyN/DjtoOrWNnWJFJN2JsT0F",
      "include_colab_link": true
    },
    "kernelspec": {
      "name": "python3",
      "display_name": "Python 3"
    },
    "language_info": {
      "name": "python"
    },
    "accelerator": "GPU"
  },
  "cells": [
    {
      "cell_type": "markdown",
      "metadata": {
        "id": "view-in-github",
        "colab_type": "text"
      },
      "source": [
        "<a href=\"https://colab.research.google.com/github/VivekShahare04/Resume-Screening-App/blob/main/resumescreening.ipynb\" target=\"_parent\"><img src=\"https://colab.research.google.com/assets/colab-badge.svg\" alt=\"Open In Colab\"/></a>"
      ]
    },
    {
      "cell_type": "code",
      "execution_count": 1,
      "metadata": {
        "id": "iRueRatoC1qe"
      },
      "outputs": [],
      "source": [
        "import numpy as np\n",
        "import pandas as pd\n",
        "import matplotlib.pyplot as plt\n",
        "import seaborn as sns"
      ]
    },
    {
      "cell_type": "code",
      "source": [
        "df = pd.read_csv('UpdatedResumeDataSet.csv')\n",
        "df.head()"
      ],
      "metadata": {
        "colab": {
          "base_uri": "https://localhost:8080/",
          "height": 206
        },
        "id": "O9mAG-1eDN7U",
        "outputId": "959d86d4-5f1f-4b1a-fde5-81fad5de7079"
      },
      "execution_count": 2,
      "outputs": [
        {
          "output_type": "execute_result",
          "data": {
            "text/plain": [
              "       Category                                             Resume\n",
              "0  Data Science  Skills * Programming Languages: Python (pandas...\n",
              "1  Data Science  Education Details \\r\\nMay 2013 to May 2017 B.E...\n",
              "2  Data Science  Areas of Interest Deep Learning, Control Syste...\n",
              "3  Data Science  Skills â¢ R â¢ Python â¢ SAP HANA â¢ Table...\n",
              "4  Data Science  Education Details \\r\\n MCA   YMCAUST,  Faridab..."
            ],
            "text/html": [
              "\n",
              "  <div id=\"df-f65f12ef-4d59-4360-a4a2-b617695fe9c2\" class=\"colab-df-container\">\n",
              "    <div>\n",
              "<style scoped>\n",
              "    .dataframe tbody tr th:only-of-type {\n",
              "        vertical-align: middle;\n",
              "    }\n",
              "\n",
              "    .dataframe tbody tr th {\n",
              "        vertical-align: top;\n",
              "    }\n",
              "\n",
              "    .dataframe thead th {\n",
              "        text-align: right;\n",
              "    }\n",
              "</style>\n",
              "<table border=\"1\" class=\"dataframe\">\n",
              "  <thead>\n",
              "    <tr style=\"text-align: right;\">\n",
              "      <th></th>\n",
              "      <th>Category</th>\n",
              "      <th>Resume</th>\n",
              "    </tr>\n",
              "  </thead>\n",
              "  <tbody>\n",
              "    <tr>\n",
              "      <th>0</th>\n",
              "      <td>Data Science</td>\n",
              "      <td>Skills * Programming Languages: Python (pandas...</td>\n",
              "    </tr>\n",
              "    <tr>\n",
              "      <th>1</th>\n",
              "      <td>Data Science</td>\n",
              "      <td>Education Details \\r\\nMay 2013 to May 2017 B.E...</td>\n",
              "    </tr>\n",
              "    <tr>\n",
              "      <th>2</th>\n",
              "      <td>Data Science</td>\n",
              "      <td>Areas of Interest Deep Learning, Control Syste...</td>\n",
              "    </tr>\n",
              "    <tr>\n",
              "      <th>3</th>\n",
              "      <td>Data Science</td>\n",
              "      <td>Skills â¢ R â¢ Python â¢ SAP HANA â¢ Table...</td>\n",
              "    </tr>\n",
              "    <tr>\n",
              "      <th>4</th>\n",
              "      <td>Data Science</td>\n",
              "      <td>Education Details \\r\\n MCA   YMCAUST,  Faridab...</td>\n",
              "    </tr>\n",
              "  </tbody>\n",
              "</table>\n",
              "</div>\n",
              "    <div class=\"colab-df-buttons\">\n",
              "\n",
              "  <div class=\"colab-df-container\">\n",
              "    <button class=\"colab-df-convert\" onclick=\"convertToInteractive('df-f65f12ef-4d59-4360-a4a2-b617695fe9c2')\"\n",
              "            title=\"Convert this dataframe to an interactive table.\"\n",
              "            style=\"display:none;\">\n",
              "\n",
              "  <svg xmlns=\"http://www.w3.org/2000/svg\" height=\"24px\" viewBox=\"0 -960 960 960\">\n",
              "    <path d=\"M120-120v-720h720v720H120Zm60-500h600v-160H180v160Zm220 220h160v-160H400v160Zm0 220h160v-160H400v160ZM180-400h160v-160H180v160Zm440 0h160v-160H620v160ZM180-180h160v-160H180v160Zm440 0h160v-160H620v160Z\"/>\n",
              "  </svg>\n",
              "    </button>\n",
              "\n",
              "  <style>\n",
              "    .colab-df-container {\n",
              "      display:flex;\n",
              "      gap: 12px;\n",
              "    }\n",
              "\n",
              "    .colab-df-convert {\n",
              "      background-color: #E8F0FE;\n",
              "      border: none;\n",
              "      border-radius: 50%;\n",
              "      cursor: pointer;\n",
              "      display: none;\n",
              "      fill: #1967D2;\n",
              "      height: 32px;\n",
              "      padding: 0 0 0 0;\n",
              "      width: 32px;\n",
              "    }\n",
              "\n",
              "    .colab-df-convert:hover {\n",
              "      background-color: #E2EBFA;\n",
              "      box-shadow: 0px 1px 2px rgba(60, 64, 67, 0.3), 0px 1px 3px 1px rgba(60, 64, 67, 0.15);\n",
              "      fill: #174EA6;\n",
              "    }\n",
              "\n",
              "    .colab-df-buttons div {\n",
              "      margin-bottom: 4px;\n",
              "    }\n",
              "\n",
              "    [theme=dark] .colab-df-convert {\n",
              "      background-color: #3B4455;\n",
              "      fill: #D2E3FC;\n",
              "    }\n",
              "\n",
              "    [theme=dark] .colab-df-convert:hover {\n",
              "      background-color: #434B5C;\n",
              "      box-shadow: 0px 1px 3px 1px rgba(0, 0, 0, 0.15);\n",
              "      filter: drop-shadow(0px 1px 2px rgba(0, 0, 0, 0.3));\n",
              "      fill: #FFFFFF;\n",
              "    }\n",
              "  </style>\n",
              "\n",
              "    <script>\n",
              "      const buttonEl =\n",
              "        document.querySelector('#df-f65f12ef-4d59-4360-a4a2-b617695fe9c2 button.colab-df-convert');\n",
              "      buttonEl.style.display =\n",
              "        google.colab.kernel.accessAllowed ? 'block' : 'none';\n",
              "\n",
              "      async function convertToInteractive(key) {\n",
              "        const element = document.querySelector('#df-f65f12ef-4d59-4360-a4a2-b617695fe9c2');\n",
              "        const dataTable =\n",
              "          await google.colab.kernel.invokeFunction('convertToInteractive',\n",
              "                                                    [key], {});\n",
              "        if (!dataTable) return;\n",
              "\n",
              "        const docLinkHtml = 'Like what you see? Visit the ' +\n",
              "          '<a target=\"_blank\" href=https://colab.research.google.com/notebooks/data_table.ipynb>data table notebook</a>'\n",
              "          + ' to learn more about interactive tables.';\n",
              "        element.innerHTML = '';\n",
              "        dataTable['output_type'] = 'display_data';\n",
              "        await google.colab.output.renderOutput(dataTable, element);\n",
              "        const docLink = document.createElement('div');\n",
              "        docLink.innerHTML = docLinkHtml;\n",
              "        element.appendChild(docLink);\n",
              "      }\n",
              "    </script>\n",
              "  </div>\n",
              "\n",
              "\n",
              "<div id=\"df-9c56a8e6-55a2-4e12-a610-e4ccb6e737c9\">\n",
              "  <button class=\"colab-df-quickchart\" onclick=\"quickchart('df-9c56a8e6-55a2-4e12-a610-e4ccb6e737c9')\"\n",
              "            title=\"Suggest charts\"\n",
              "            style=\"display:none;\">\n",
              "\n",
              "<svg xmlns=\"http://www.w3.org/2000/svg\" height=\"24px\"viewBox=\"0 0 24 24\"\n",
              "     width=\"24px\">\n",
              "    <g>\n",
              "        <path d=\"M19 3H5c-1.1 0-2 .9-2 2v14c0 1.1.9 2 2 2h14c1.1 0 2-.9 2-2V5c0-1.1-.9-2-2-2zM9 17H7v-7h2v7zm4 0h-2V7h2v10zm4 0h-2v-4h2v4z\"/>\n",
              "    </g>\n",
              "</svg>\n",
              "  </button>\n",
              "\n",
              "<style>\n",
              "  .colab-df-quickchart {\n",
              "      --bg-color: #E8F0FE;\n",
              "      --fill-color: #1967D2;\n",
              "      --hover-bg-color: #E2EBFA;\n",
              "      --hover-fill-color: #174EA6;\n",
              "      --disabled-fill-color: #AAA;\n",
              "      --disabled-bg-color: #DDD;\n",
              "  }\n",
              "\n",
              "  [theme=dark] .colab-df-quickchart {\n",
              "      --bg-color: #3B4455;\n",
              "      --fill-color: #D2E3FC;\n",
              "      --hover-bg-color: #434B5C;\n",
              "      --hover-fill-color: #FFFFFF;\n",
              "      --disabled-bg-color: #3B4455;\n",
              "      --disabled-fill-color: #666;\n",
              "  }\n",
              "\n",
              "  .colab-df-quickchart {\n",
              "    background-color: var(--bg-color);\n",
              "    border: none;\n",
              "    border-radius: 50%;\n",
              "    cursor: pointer;\n",
              "    display: none;\n",
              "    fill: var(--fill-color);\n",
              "    height: 32px;\n",
              "    padding: 0;\n",
              "    width: 32px;\n",
              "  }\n",
              "\n",
              "  .colab-df-quickchart:hover {\n",
              "    background-color: var(--hover-bg-color);\n",
              "    box-shadow: 0 1px 2px rgba(60, 64, 67, 0.3), 0 1px 3px 1px rgba(60, 64, 67, 0.15);\n",
              "    fill: var(--button-hover-fill-color);\n",
              "  }\n",
              "\n",
              "  .colab-df-quickchart-complete:disabled,\n",
              "  .colab-df-quickchart-complete:disabled:hover {\n",
              "    background-color: var(--disabled-bg-color);\n",
              "    fill: var(--disabled-fill-color);\n",
              "    box-shadow: none;\n",
              "  }\n",
              "\n",
              "  .colab-df-spinner {\n",
              "    border: 2px solid var(--fill-color);\n",
              "    border-color: transparent;\n",
              "    border-bottom-color: var(--fill-color);\n",
              "    animation:\n",
              "      spin 1s steps(1) infinite;\n",
              "  }\n",
              "\n",
              "  @keyframes spin {\n",
              "    0% {\n",
              "      border-color: transparent;\n",
              "      border-bottom-color: var(--fill-color);\n",
              "      border-left-color: var(--fill-color);\n",
              "    }\n",
              "    20% {\n",
              "      border-color: transparent;\n",
              "      border-left-color: var(--fill-color);\n",
              "      border-top-color: var(--fill-color);\n",
              "    }\n",
              "    30% {\n",
              "      border-color: transparent;\n",
              "      border-left-color: var(--fill-color);\n",
              "      border-top-color: var(--fill-color);\n",
              "      border-right-color: var(--fill-color);\n",
              "    }\n",
              "    40% {\n",
              "      border-color: transparent;\n",
              "      border-right-color: var(--fill-color);\n",
              "      border-top-color: var(--fill-color);\n",
              "    }\n",
              "    60% {\n",
              "      border-color: transparent;\n",
              "      border-right-color: var(--fill-color);\n",
              "    }\n",
              "    80% {\n",
              "      border-color: transparent;\n",
              "      border-right-color: var(--fill-color);\n",
              "      border-bottom-color: var(--fill-color);\n",
              "    }\n",
              "    90% {\n",
              "      border-color: transparent;\n",
              "      border-bottom-color: var(--fill-color);\n",
              "    }\n",
              "  }\n",
              "</style>\n",
              "\n",
              "  <script>\n",
              "    async function quickchart(key) {\n",
              "      const quickchartButtonEl =\n",
              "        document.querySelector('#' + key + ' button');\n",
              "      quickchartButtonEl.disabled = true;  // To prevent multiple clicks.\n",
              "      quickchartButtonEl.classList.add('colab-df-spinner');\n",
              "      try {\n",
              "        const charts = await google.colab.kernel.invokeFunction(\n",
              "            'suggestCharts', [key], {});\n",
              "      } catch (error) {\n",
              "        console.error('Error during call to suggestCharts:', error);\n",
              "      }\n",
              "      quickchartButtonEl.classList.remove('colab-df-spinner');\n",
              "      quickchartButtonEl.classList.add('colab-df-quickchart-complete');\n",
              "    }\n",
              "    (() => {\n",
              "      let quickchartButtonEl =\n",
              "        document.querySelector('#df-9c56a8e6-55a2-4e12-a610-e4ccb6e737c9 button');\n",
              "      quickchartButtonEl.style.display =\n",
              "        google.colab.kernel.accessAllowed ? 'block' : 'none';\n",
              "    })();\n",
              "  </script>\n",
              "</div>\n",
              "\n",
              "    </div>\n",
              "  </div>\n"
            ],
            "application/vnd.google.colaboratory.intrinsic+json": {
              "type": "dataframe",
              "variable_name": "df",
              "summary": "{\n  \"name\": \"df\",\n  \"rows\": 962,\n  \"fields\": [\n    {\n      \"column\": \"Category\",\n      \"properties\": {\n        \"dtype\": \"category\",\n        \"num_unique_values\": 25,\n        \"samples\": [\n          \"Civil Engineer\",\n          \"DevOps Engineer\",\n          \"Data Science\"\n        ],\n        \"semantic_type\": \"\",\n        \"description\": \"\"\n      }\n    },\n    {\n      \"column\": \"Resume\",\n      \"properties\": {\n        \"dtype\": \"category\",\n        \"num_unique_values\": 166,\n        \"samples\": [\n          \"KEY COMPETENCIES \\u00e2\\u009c\\u00b6Multi - Operations Management\\u00e2\\u009c\\u00b6People Management \\u00e2\\u009c\\u00b6Customer Services - Emails \\u00e2\\u009c\\u00b6 MIS \\u00e2\\u009c\\u00b6Vendor & Client Services Management\\u00e2\\u009c\\u00b6Cross Functional Coordination\\u00e2\\u009c\\u00b6Banking & Financial Services\\u00e2\\u009c\\u00b6 Transaction Monitoring * ATM Operations \\u00e2\\u009c\\u00b6 & Prepaid Card Operations (Pre-Issuance & Post-Issuance) \\u00e2\\u009c\\u00b6 POS Operations * JOB PROFILE & SKILLS: \\u00e2\\u0080\\u00a2 An effective communicator with excellent relationship building & interpersonal skills. Strong analytical, problem solving & organizational abilities. \\u00e2\\u0080\\u00a2 Extensive experience in managing operations with demonstrated leadership qualities & organisational skills during the tenure. \\u00e2\\u0080\\u00a2 Managing customer centric operations & ensuring customer satisfaction by achieving service quality norms. \\u00e2\\u0080\\u00a2 Analyzing of all operational problems, customer complaints and take preventive and corrective actions to resolve the same. \\u00e2\\u0080\\u00a2 Receive and respond to Key customer inquiries in an effective manner and provide relevant and timely information. \\u00e2\\u0080\\u00a2 Deft in steering banking back-end operations, analyzing risks and managing delinquencies with dexterity across applying techniques for maximizing recoveries and minimizing credit losses. \\u00e2\\u0080\\u00a2 Analyzed & identified training needs of the team members and developing, organizing and conducting training programs and manage bottom quartile team to improve their performance. \\u00e2\\u0080\\u00a2 Preparing and maintaining daily MIS reports to evaluate the performance and efficiency of the process relate to various verticals. \\u00e2\\u0080\\u00a2 Measuring the performance of the processes in terms of efficiency and effectiveness matrix and ensuring adherence to SLA. \\u00e2\\u0080\\u00a2 Major Activities Define processes for Field Services were monitored and necessary checks were executed and controlled. Also measured Vendor SLA by analyzing the TAT of vendors & the Client SLA provided to us. \\u00e2\\u0080\\u00a2 As per company procedures, handling & ensuring vendor's payment issues to be sorted out &payments are processed on quarterly basis. \\u00e2\\u0080\\u00a2 Appropriately plan and execute each skill of operations in accordance with the department's policies and procedures. \\u00e2\\u0080\\u00a2 Manage relationships with business team, software development team and other services to achieve project objectives. Different software Worked till now: - a. CTL prime - Axis Bank Credit Cards b. Insight - For POS Machine technical operations for Amex (MID & TID Generation- ATOS (Venture Infotek) c. Ticket Management System - TATA Communications Private Services Ltd (ATM - NOC Operations) d. Branch Portal (Yalamanchili Software Exports Ltd) - Prepaid Cards (SBI Bank & Zaggle Prepaid Oceans Services Ltd) Zaggle Prepaid Ocean Services Pvt Ltd Oct, 2017 to Till Date Designation: Manager - Operations (Payment Industry - Prepaid Cards - INR) Education Details \\r\\n  Commerce Mumbai, Maharashtra Mumbai University\\r\\nOperations Manager \\r\\n\\r\\nService Manager - Operations (Payment Industry - Prepaid Cards - INR & FTC)\\r\\nSkill Details \\r\\nOPERATIONS- Exprience - 73 months\\r\\nSATISFACTION- Exprience - 48 months\\r\\nTRAINING- Exprience - 24 months\\r\\nNOC- Exprience - 23 months\\r\\nPOINT OF SALE- Exprience - 20 monthsCompany Details \\r\\ncompany - Zaggle Prepaid Ocean Services Pvt Ltd\\r\\ndescription - Card Operations\\r\\ncompany - Yalamanchili Software Exports Ltd\\r\\ndescription - 24*7 Operations Pvt Ltd) Dec 2015 to Feb 2017\\r\\n\\r\\nDesignation: Service Manager - Operations (Payment Industry - Prepaid Cards - INR & FTC)\\r\\n\\r\\nKey Contributions: \\u00e2\\u0080\\u00a2 A result-oriented business professional in planning, executing& managing processes, improving efficiency of operations, team building and detailing process information to determine effective result into operations.\\r\\n\\u00e2\\u0080\\u00a2 Ensuring PINs generation (SLA) is maintained and chargeback cases are raised in perfect timeframe.\\r\\n\\u00e2\\u0080\\u00a2 Managing email customer services properly and ensuring the emails are replied properly. Also, ensuring transaction monitoring is properly managed 24/7.\\r\\n\\u00e2\\u0080\\u00a2 Assisting Bankers (SBI & Associated Banks) for their BCP plans by getting executed in the system with the help of DR-PR plans & vice versa or any other business requirements.\\r\\n\\u00e2\\u0080\\u00a2 Expertise in maintaining highest level of quality in operations; ensuring adherence to all the quality parameters and procedures as per the stringent norms.\\r\\n\\u00e2\\u0080\\u00a2 Lead, manage and supervise the execution of external audit engagements and responsible for presenting the findings & developing a quality reports to the senior Management and Clients.\\r\\n\\u00e2\\u0080\\u00a2 Coach/mentor (20) team members to perform at a higher level by giving opportunities, providing timely continuous feedback and working with staff to improve their communication, time management, decision making, organization, and analytical skills.\\r\\n\\u00e2\\u0080\\u00a2 Providing the solutions and services to the client in their own premises with aforesaid count of team members.\\r\\n\\u00e2\\u0080\\u00a2 Also ensuring end to end process of PR & DR as per client requirements (PR- DR & DR -PR) by interacting with internal & external stakeholders.\\r\\n\\u00e2\\u0080\\u00a2 Determining process gaps and designing & conducting training programs to enhance operational efficiency and retain talent by providing optimum opportunities for personal and professional growth.\\r\\ncompany - Credit Cards\\r\\ndescription - Ensured highest standard of customer satisfaction and quality service; developing new policies and procedures to improve based on customer feedback and resolving customer queries via correspondence, inbound calls & email channels with the strength of (12-16) Team members.\\r\\ncompany - AGS Transact Technologies Limited\\r\\ndescription - Key Contributions: Lead - SPOC to Banks\\r\\ncompany - TATA Communications Payment Solutions Ltd\\r\\ndescription - To make ATMs operational within TAT by analyzing the issue is technical or non-technical and also by interacting with internal & external stakeholders.\\r\\ncompany - Vertex Customer Solutions India Private Ltd\\r\\ndescription - Key Contributions: \\u00e2\\u0080\\u00a2 Build positive working relationship with all team members and clients by keeping Management informed   of KYC document collection & con-current audit progress, responding timely to Management inquiries, understanding the business and conducting self professionally.\\r\\ncompany - Financial Inclusion Network & Operations Limited\\r\\ndescription - Key Contributions: POS-Operations \\u00e2\\u0080\\u00a2 Cascading the adherence of process is strictly followed by team members & training them to reduce the downtime.\\r\\n\\u00e2\\u0080\\u00a2 Managing Stock of EDC Terminals \\u00e2\\u0080\\u00a2 Managing Deployments of terminals through Multiple teams \\u00e2\\u0080\\u00a2 Would have worked with multiple terminal make & model \\u00e2\\u0080\\u00a2 Managing Inward, Outward & QC of applications installed in the POS machines.\\r\\ncompany - Venture Infotek Private Ltd\\r\\ndescription - Key Contributions: POS-Operations\\r\\ncompany - Axis Bank Ltd - Customer Services\\r\\ndescription - Aug 2006 to Oct 2009 (Ma-Foi&I- smart)\\r\\n\\r\\nDesignation: Team Leader/Executive - Emails, Phone Banking & Correspondence Unit (Snail Mails)\",\n          \"Skill Set: Hadoop, Map Reduce, HDFS, Hive, Sqoop, java. Duration: 2016 to 2017. Role: Hadoop Developer Rplus offers an quick, simple and powerful cloud based Solution, Demand Sense to accurately predict demand for your product in all your markets which Combines Enterprise and External Data to predict demand more accurately through Uses Social Conversation and Sentiments to derive demand and Identifies significant drivers of sale out of hordes of factors that Selects the best suited model out of multiple forecasting models for each product. Responsibilities: \\u00e2\\u0080\\u00a2 Involved in deploying the product for customers, gathering requirements and algorithm optimization at backend of the product. \\u00e2\\u0080\\u00a2 Load and transform Large Datasets of structured semi structured. \\u00e2\\u0080\\u00a2 Responsible to manage data coming from different sources and application \\u00e2\\u0080\\u00a2 Supported Map Reduce Programs those are running on the cluster \\u00e2\\u0080\\u00a2 Involved in creating Hive tables, loading with data and writing hive queries which will run internally in map reduce way.Education Details \\r\\n\\r\\nHadoop Developer \\r\\n\\r\\nHadoop Developer - Braindatawire\\r\\nSkill Details \\r\\nAPACHE HADOOP HDFS- Exprience - 49 months\\r\\nAPACHE HADOOP SQOOP- Exprience - 49 months\\r\\nHadoop- Exprience - 49 months\\r\\nHADOOP- Exprience - 49 months\\r\\nHADOOP DISTRIBUTED FILE SYSTEM- Exprience - 49 monthsCompany Details \\r\\ncompany - Braindatawire\\r\\ndescription - Technical Skills:\\r\\n\\u00e2\\u0080\\u00a2   Programming: Core Java, Map Reduce, Scala\\r\\n\\u00e2\\u0080\\u00a2   Hadoop Tools: HDFS, Spark, Map Reduce, Sqoop, Hive, Hbase\\r\\n\\u00e2\\u0080\\u00a2   Database: MySQL, Oracle\\r\\n\\u00e2\\u0080\\u00a2   Scripting: Shell Scripting\\r\\n\\u00e2\\u0080\\u00a2   IDE: Eclipse\\r\\n\\u00e2\\u0080\\u00a2   Operating Systems: Linux (CentOS), Windows\\r\\n\\u00e2\\u0080\\u00a2   Source Control: Git (Github)\",\n          \"IT Skills: Area Exposure Modeling Tool: Bizagi, MS Visio Prototyping Tool: Indigo Studio. Documentation: MS Office (MS Word, MS Excel, MS Power Point) Testing Proficiency: Smoke, Sanity, Integration, Functional, Acceptance and UI Methodology implemented: Waterfall, Agile (Scrum) Database: SQL Testing Tool: HPQC Business Exposure Education Details \\r\\n Bachelor Of Computer Engineering Computer Engineering Mumbai, Maharashtra Thadomal Shahani Engineering college\\r\\n Diploma Computer Engineering Ulhasnagar, Maharashtra Institute of Technology\\r\\n Secondary School Certificate  Ulhasnagar, Maharashtra New English High School\\r\\nSenior Business Analyst - RPA \\r\\n\\r\\nSenior Business Analyst - RPA - Hexaware Technologies\\r\\nSkill Details \\r\\nDOCUMENTATION- Exprience - 47 months\\r\\nTESTING- Exprience - 29 months\\r\\nINTEGRATION- Exprience - 25 months\\r\\nINTEGRATOR- Exprience - 25 months\\r\\nPROTOTYPE- Exprience - 13 monthsCompany Details \\r\\ncompany - Hexaware Technologies\\r\\ndescription - Working as a RPA Business Analyst\\r\\ncompany - BBH- Brown Brothers Harriman & Co\\r\\ndescription - is a private bank that provides commercial banking, investment management, brokerage, and trust services to private companies and individuals. It also performs merger advisory, foreign exchange, custody services, commercial banking, and corporate financing services.\\r\\n\\r\\nResponsibilities: \\u00e2\\u0080\\u00a2 Performed Automation Assessment of various Processes and identified processes which can be candidates of RPA.\\r\\n\\u00e2\\u0080\\u00a2 Conducting Assessment that involves an initial Understanding of the Existing System, their technology, processes, Usage of the tools, Feasibility of tool with automation tool along with automation ROI analysis.\\r\\n\\u00e2\\u0080\\u00a2 Preparing the Automation Potential Sheet which describes the steps in the process, the volume and frequency of the transaction, the AHT taken by SME to perform the process and depending on the steps that could be automated, Automation potential and the manual efforts that will be saved are calculated.\\r\\nCalculating the complexity of the Process which is considered for automation and depending on all these factors Number of Bots and Number of Automation tool Licenses are determined.\\r\\n\\u00e2\\u0080\\u00a2 Implementing a Proof of Concept (POC) to Validate Feasibility by executing the selected critical use cases for conducting a POC which will helps to identify financial and operational benefits and provide recommendations regarding the actual need for complete automation.\\r\\n\\u00e2\\u0080\\u00a2 Gathering business requirements by conducting detailed interviews with business users, stakeholders, and Subject Matter Experts (SME's) \\u00e2\\u0080\\u00a2 Preparing Business Requirement Document and then converted Business requirements into Functional Requirements Specification.\\r\\n \\u00e2\\u0080\\u00a2 Constructing prototype early toward a design acceptable to the customer and feasible.\\r\\n\\u00e2\\u0080\\u00a2 Assisting in designing test plans, test scenarios and test cases for integration, regression, and user acceptance testing (UAT) to improve the overall quality of the Automation.\\r\\n\\u00e2\\u0080\\u00a2 Participating regularly in Walkthroughs and Review meetings with Project Manager, QA Engineers, and Development team.\\r\\n\\u00e2\\u0080\\u00a2 Regularly interacting with offshore and onshore development teams.\\r\\ncompany - FADV - First Advantage\\r\\ndescription - is a criminal background check company that delivers global solutions ranging from employment screenings to background checks.\\r\\nThe following are the processes which were covered:\\r\\nEmail Process, Research Process, Review Process.\\r\\n\\r\\nResponsibilities: \\u00e2\\u0080\\u00a2 Requirement Gathering through conducting Interviews & Brainstorming sessions with stakeholders \\u00e2\\u0080\\u00a2 To develop decision models and execute those rules as per the use case specifications.\\r\\n\\u00e2\\u0080\\u00a2 To Test/validate the decision models against document test data.\\r\\n\\u00e2\\u0080\\u00a2 To maintain and enhance the decision models for changes in regulations as per use case specifications.\\r\\n\\u00e2\\u0080\\u00a2 Responsible for performing the business research that will make a business growth.\\r\\n\\u00e2\\u0080\\u00a2 Developing a clear understanding of existing business functions and processes.\\r\\n\\u00e2\\u0080\\u00a2 Effectively communicate with the onsite clients for the queries, suggestions, and update.\\r\\n\\u00e2\\u0080\\u00a2 Giving suggestions to enhance the current processes.\\r\\n\\u00e2\\u0080\\u00a2 Identifying areas for process improvement.\\r\\n\\u00e2\\u0080\\u00a2 Flagging up potential problems at an early stage.\\r\\n\\u00e2\\u0080\\u00a2 Preparing PowerPoint presentations and documents for business meetings.\\r\\n\\u00e2\\u0080\\u00a2 Using any information gathered to write up detailed reports.\\r\\n\\u00e2\\u0080\\u00a2 Highlighting risks and issues that could impact project delivery.\\r\\n\\u00e2\\u0080\\u00a2 Able to work accurately.\\r\\n\\u00e2\\u0080\\u00a2 To develop and maintain documentation for internal team training and client end user operations.\\r\\n\\u00e2\\u0080\\u00a2 To work efficiently with team members and across teams.\\r\\n\\u00e2\\u0080\\u00a2 To mentor and train junior team members.\\r\\ncompany - Clinical Testing, Lab Work and Diagnostic Testing\\r\\ndescription - IQVIA provides services to its customers this includes: Clinical Testing, Lab Work and Diagnostic Testing under clinical trial. These customers need to pay to IQVIA and aging details and invoices are generated for the same.\\r\\nThe following are the processes which were covered:\\r\\n\\r\\nTracking Payments, Automated Real Time Metrics Reporting (Dashboard), Past Due Notifications, AR Statements, Credit/Rebill.\\r\\nResponsibilities: \\u00e2\\u0080\\u00a2 Conducting meetings with clients and key stakeholders to gather requirements, analyze, finalize and have formal sign-offs from approvers Gather and perform analysis of the business requirements \\u00e2\\u0080\\u00a2 Translating the business requirements into the Business Requirement Document [BRD], Functional Requirement Document [FRD].\\r\\n\\u00e2\\u0080\\u00a2 Facilitating meetings with the appropriate subject matter experts in both business and technology teams \\u00e2\\u0080\\u00a2 Coordinating with business user community for the execution of user acceptance test as well as tracking issues \\u00e2\\u0080\\u00a2 Working, collaborating and coordinating with Offshore and Onsite team members to fulfill the BA responsibilities from project initiation to Post-Implementation \\u00e2\\u0080\\u00a2 Reviewing the test scripts with business users as well as technology team. Execute test scripts with expected results for the System Integration Test (SIT) and User Acceptance Test (UAT) \\u00e2\\u0080\\u00a2 Coordinating and conducting the Production Acceptance Testing (PAT) with the business users \\u00e2\\u0080\\u00a2 Creating flow diagrams, structure charts, and other types of system or process representations \\u00e2\\u0080\\u00a2 Managing changes to requirements and baseline through a change control process \\u00e2\\u0080\\u00a2 Utilizing standard methods, design and testing tools throughout project development life cycle \\u00e2\\u0080\\u00a2 Work closely with the operational functional teams, operations management, and personnel, and various technology teams to facilitate a shared understanding of requirements and priorities across all areas\\r\\ncompany - Eduavenir IT Solution\\r\\ndescription - Project: M.B.M.S\\r\\n\\r\\nM.B.M.S. - is an Inventory management application that allows user to manage inventory details of different warehouses, having different products located at various locations and help extract what goods have been procured, sold or returned by customers. It generates automated invoicesalong withcustomized reports. It also managescustomer complaint and resolution system implementation along with automated MIS on monthly basis.Sales and forecastingis also developed on MIS System and the streamlining of process of warehousing and dispatch along with online proof of delivery management system (POD documentation) is generated.\\r\\n\\r\\nResponsibilities: \\u00e2\\u0080\\u00a2 Participate in requirement gathering discussion with client to understand the flow of business processes \\u00e2\\u0080\\u00a2 Analyze the requirements and determine the core processes, develop Process Documentation and ensure to stay up-to-date in conjunction with on-going changes \\u00e2\\u0080\\u00a2 Participate in process flow analysis and preparing BRD, SRS.\\r\\n\\u00e2\\u0080\\u00a2 Coordinating with developers, designers & operations teams for various nuances of the project, communicate the stakeholder requirements from requirement /enhancement to implementation and finally deliver the same within estimated timeframe.\\r\\n\\u00e2\\u0080\\u00a2 Support UAT by reviewing test cases, manage version control of documents, software builds.\\r\\n\\u00e2\\u0080\\u00a2 Coordinate with the stakeholders for UAT sign off and coordinate internally for production movement till Golive stage of the application.\\r\\n\\u00e2\\u0080\\u00a2 Provide demo and training to internal and end user using PowerPoint presentation.\\r\\n\\u00e2\\u0080\\u00a2 Resolving project functional &technical issues during UAT.\\r\\n\\u00e2\\u0080\\u00a2 Prioritizing the Production bugs and resolving the same within the estimated timeframe.\\r\\n\\u00e2\\u0080\\u00a2 Preparing Project Status Report and Production Bugs Status to all the stakeholders.\\r\\n\\u00e2\\u0080\\u00a2 Promoting and Networking for online trading platform.\\r\\n\\u00e2\\u0080\\u00a2 Designing query sheet for obtaining and comparison of quotes from various vendors.\\r\\n\\u00e2\\u0080\\u00a2 Development of product codes / material codes for inventory management (Master Data Management)\\r\\ncompany - CAPGEMINI Head Office\\r\\ndescription - Type: Mobile and Device Testing.       Duration: January 2014 - August 2014\\r\\n\\r\\nFollet - An application which takes an electronic request from the user for the books he requires from a particular follet store. This detailed information about books that will include the name of the book, its price, the date of the transaction and the parties involved which will then be sent to follet stores. User then create request for one or more books for a given date. This request is then processed further and user gets a mail of the date when he will be provided with that book.\\r\\n\\r\\nResponsibilities: \\u00e2\\u0080\\u00a2 Understanding the needs and business requirements.\\r\\n\\u00e2\\u0080\\u00a2 Preparing BRD, SRS by eliciting all the requirements from the client and SMEs \\u00e2\\u0080\\u00a2 Understanding the dependency of the modules in the system \\u00e2\\u0080\\u00a2 Preparation of test plan for Unit level and Integration level.\\r\\n\\u00e2\\u0080\\u00a2 Preparation and execution of test cases.\\r\\n\\u00e2\\u0080\\u00a2 Defect tracking, Issue Resolution, Risk Monitoring, Status Tracking, Reporting and Follow-up.\\r\\n\\u00e2\\u0080\\u00a2 Preparation of Test Completion report.\\r\\ncompany - CAPGEMINI Head Office\\r\\ndescription - \\r\\ncompany - CAPGEMINI Head Office\\r\\ndescription - Humana is a health care insurance project of U.S. which deals with supplying various medicines to citizens as per the doctor's reference and patient's insurance policy. This application keeps track of all the medicines user has consumed in the past and generates a patient history. A citizen is given a drug only after the doctor's reference so the doctor's information is also linked with the patient's history.\\r\\n\\r\\nResponsibilities: \\u00e2\\u0080\\u00a2 Understanding the requirements and getting clarifications from client.\\r\\n\\u00e2\\u0080\\u00a2 Involved in writing test cases based on test scenarios and execute them.\\r\\n\\u00e2\\u0080\\u00a2 Ensuring Test Coverage using Requirement Traceability Matrix (RTM) \\u00e2\\u0080\\u00a2 Preparation of Test Completion report.\\r\\ncompany - CAPGEMINI Head Office\\r\\ndescription - Testing Trends WQR (World Quality Report) is an application which allows the users to take a survey on different methods and technologies used for testing. Users can choose to answer any type of questions under three different categories. Users have a facility to search, view and export the data to excel. Also, users get daily and weekly reports through email about the new trends in testing implemented around the globe. Testing Trends WQR app is available on Android and IOS platforms.\\r\\n\\r\\nResponsibilities: \\u00e2\\u0080\\u00a2 Understanding the requirements and getting clarifications from client.\\r\\n\\u00e2\\u0080\\u00a2 Writing test cases based on test scenarios and executed them.\\r\\n\\u00e2\\u0080\\u00a2 Performing different types of testing such as Functional, Integration, System, and UAT.\\r\\n\\u00e2\\u0080\\u00a2 Defect resolution and maintenance of the application.\"\n        ],\n        \"semantic_type\": \"\",\n        \"description\": \"\"\n      }\n    }\n  ]\n}"
            }
          },
          "metadata": {},
          "execution_count": 2
        }
      ]
    },
    {
      "cell_type": "code",
      "source": [
        "df"
      ],
      "metadata": {
        "colab": {
          "base_uri": "https://localhost:8080/",
          "height": 423
        },
        "id": "bUIvDNGXDWTy",
        "outputId": "cc70cd82-84dc-448c-d2a3-48cc4df96e85"
      },
      "execution_count": 3,
      "outputs": [
        {
          "output_type": "execute_result",
          "data": {
            "text/plain": [
              "         Category                                             Resume\n",
              "0    Data Science  Skills * Programming Languages: Python (pandas...\n",
              "1    Data Science  Education Details \\r\\nMay 2013 to May 2017 B.E...\n",
              "2    Data Science  Areas of Interest Deep Learning, Control Syste...\n",
              "3    Data Science  Skills â¢ R â¢ Python â¢ SAP HANA â¢ Table...\n",
              "4    Data Science  Education Details \\r\\n MCA   YMCAUST,  Faridab...\n",
              "..            ...                                                ...\n",
              "957       Testing  Computer Skills: â¢ Proficient in MS office (...\n",
              "958       Testing  â Willingness to accept the challenges. â ...\n",
              "959       Testing  PERSONAL SKILLS â¢ Quick learner, â¢ Eagerne...\n",
              "960       Testing  COMPUTER SKILLS & SOFTWARE KNOWLEDGE MS-Power ...\n",
              "961       Testing  Skill Set OS Windows XP/7/8/8.1/10 Database MY...\n",
              "\n",
              "[962 rows x 2 columns]"
            ],
            "text/html": [
              "\n",
              "  <div id=\"df-9fd13bb9-3c24-4c7a-b39e-d3df9c68ab8e\" class=\"colab-df-container\">\n",
              "    <div>\n",
              "<style scoped>\n",
              "    .dataframe tbody tr th:only-of-type {\n",
              "        vertical-align: middle;\n",
              "    }\n",
              "\n",
              "    .dataframe tbody tr th {\n",
              "        vertical-align: top;\n",
              "    }\n",
              "\n",
              "    .dataframe thead th {\n",
              "        text-align: right;\n",
              "    }\n",
              "</style>\n",
              "<table border=\"1\" class=\"dataframe\">\n",
              "  <thead>\n",
              "    <tr style=\"text-align: right;\">\n",
              "      <th></th>\n",
              "      <th>Category</th>\n",
              "      <th>Resume</th>\n",
              "    </tr>\n",
              "  </thead>\n",
              "  <tbody>\n",
              "    <tr>\n",
              "      <th>0</th>\n",
              "      <td>Data Science</td>\n",
              "      <td>Skills * Programming Languages: Python (pandas...</td>\n",
              "    </tr>\n",
              "    <tr>\n",
              "      <th>1</th>\n",
              "      <td>Data Science</td>\n",
              "      <td>Education Details \\r\\nMay 2013 to May 2017 B.E...</td>\n",
              "    </tr>\n",
              "    <tr>\n",
              "      <th>2</th>\n",
              "      <td>Data Science</td>\n",
              "      <td>Areas of Interest Deep Learning, Control Syste...</td>\n",
              "    </tr>\n",
              "    <tr>\n",
              "      <th>3</th>\n",
              "      <td>Data Science</td>\n",
              "      <td>Skills â¢ R â¢ Python â¢ SAP HANA â¢ Table...</td>\n",
              "    </tr>\n",
              "    <tr>\n",
              "      <th>4</th>\n",
              "      <td>Data Science</td>\n",
              "      <td>Education Details \\r\\n MCA   YMCAUST,  Faridab...</td>\n",
              "    </tr>\n",
              "    <tr>\n",
              "      <th>...</th>\n",
              "      <td>...</td>\n",
              "      <td>...</td>\n",
              "    </tr>\n",
              "    <tr>\n",
              "      <th>957</th>\n",
              "      <td>Testing</td>\n",
              "      <td>Computer Skills: â¢ Proficient in MS office (...</td>\n",
              "    </tr>\n",
              "    <tr>\n",
              "      <th>958</th>\n",
              "      <td>Testing</td>\n",
              "      <td>â Willingness to accept the challenges. â ...</td>\n",
              "    </tr>\n",
              "    <tr>\n",
              "      <th>959</th>\n",
              "      <td>Testing</td>\n",
              "      <td>PERSONAL SKILLS â¢ Quick learner, â¢ Eagerne...</td>\n",
              "    </tr>\n",
              "    <tr>\n",
              "      <th>960</th>\n",
              "      <td>Testing</td>\n",
              "      <td>COMPUTER SKILLS &amp; SOFTWARE KNOWLEDGE MS-Power ...</td>\n",
              "    </tr>\n",
              "    <tr>\n",
              "      <th>961</th>\n",
              "      <td>Testing</td>\n",
              "      <td>Skill Set OS Windows XP/7/8/8.1/10 Database MY...</td>\n",
              "    </tr>\n",
              "  </tbody>\n",
              "</table>\n",
              "<p>962 rows × 2 columns</p>\n",
              "</div>\n",
              "    <div class=\"colab-df-buttons\">\n",
              "\n",
              "  <div class=\"colab-df-container\">\n",
              "    <button class=\"colab-df-convert\" onclick=\"convertToInteractive('df-9fd13bb9-3c24-4c7a-b39e-d3df9c68ab8e')\"\n",
              "            title=\"Convert this dataframe to an interactive table.\"\n",
              "            style=\"display:none;\">\n",
              "\n",
              "  <svg xmlns=\"http://www.w3.org/2000/svg\" height=\"24px\" viewBox=\"0 -960 960 960\">\n",
              "    <path d=\"M120-120v-720h720v720H120Zm60-500h600v-160H180v160Zm220 220h160v-160H400v160Zm0 220h160v-160H400v160ZM180-400h160v-160H180v160Zm440 0h160v-160H620v160ZM180-180h160v-160H180v160Zm440 0h160v-160H620v160Z\"/>\n",
              "  </svg>\n",
              "    </button>\n",
              "\n",
              "  <style>\n",
              "    .colab-df-container {\n",
              "      display:flex;\n",
              "      gap: 12px;\n",
              "    }\n",
              "\n",
              "    .colab-df-convert {\n",
              "      background-color: #E8F0FE;\n",
              "      border: none;\n",
              "      border-radius: 50%;\n",
              "      cursor: pointer;\n",
              "      display: none;\n",
              "      fill: #1967D2;\n",
              "      height: 32px;\n",
              "      padding: 0 0 0 0;\n",
              "      width: 32px;\n",
              "    }\n",
              "\n",
              "    .colab-df-convert:hover {\n",
              "      background-color: #E2EBFA;\n",
              "      box-shadow: 0px 1px 2px rgba(60, 64, 67, 0.3), 0px 1px 3px 1px rgba(60, 64, 67, 0.15);\n",
              "      fill: #174EA6;\n",
              "    }\n",
              "\n",
              "    .colab-df-buttons div {\n",
              "      margin-bottom: 4px;\n",
              "    }\n",
              "\n",
              "    [theme=dark] .colab-df-convert {\n",
              "      background-color: #3B4455;\n",
              "      fill: #D2E3FC;\n",
              "    }\n",
              "\n",
              "    [theme=dark] .colab-df-convert:hover {\n",
              "      background-color: #434B5C;\n",
              "      box-shadow: 0px 1px 3px 1px rgba(0, 0, 0, 0.15);\n",
              "      filter: drop-shadow(0px 1px 2px rgba(0, 0, 0, 0.3));\n",
              "      fill: #FFFFFF;\n",
              "    }\n",
              "  </style>\n",
              "\n",
              "    <script>\n",
              "      const buttonEl =\n",
              "        document.querySelector('#df-9fd13bb9-3c24-4c7a-b39e-d3df9c68ab8e button.colab-df-convert');\n",
              "      buttonEl.style.display =\n",
              "        google.colab.kernel.accessAllowed ? 'block' : 'none';\n",
              "\n",
              "      async function convertToInteractive(key) {\n",
              "        const element = document.querySelector('#df-9fd13bb9-3c24-4c7a-b39e-d3df9c68ab8e');\n",
              "        const dataTable =\n",
              "          await google.colab.kernel.invokeFunction('convertToInteractive',\n",
              "                                                    [key], {});\n",
              "        if (!dataTable) return;\n",
              "\n",
              "        const docLinkHtml = 'Like what you see? Visit the ' +\n",
              "          '<a target=\"_blank\" href=https://colab.research.google.com/notebooks/data_table.ipynb>data table notebook</a>'\n",
              "          + ' to learn more about interactive tables.';\n",
              "        element.innerHTML = '';\n",
              "        dataTable['output_type'] = 'display_data';\n",
              "        await google.colab.output.renderOutput(dataTable, element);\n",
              "        const docLink = document.createElement('div');\n",
              "        docLink.innerHTML = docLinkHtml;\n",
              "        element.appendChild(docLink);\n",
              "      }\n",
              "    </script>\n",
              "  </div>\n",
              "\n",
              "\n",
              "<div id=\"df-a43b2637-fec9-4039-8a08-264d88756fca\">\n",
              "  <button class=\"colab-df-quickchart\" onclick=\"quickchart('df-a43b2637-fec9-4039-8a08-264d88756fca')\"\n",
              "            title=\"Suggest charts\"\n",
              "            style=\"display:none;\">\n",
              "\n",
              "<svg xmlns=\"http://www.w3.org/2000/svg\" height=\"24px\"viewBox=\"0 0 24 24\"\n",
              "     width=\"24px\">\n",
              "    <g>\n",
              "        <path d=\"M19 3H5c-1.1 0-2 .9-2 2v14c0 1.1.9 2 2 2h14c1.1 0 2-.9 2-2V5c0-1.1-.9-2-2-2zM9 17H7v-7h2v7zm4 0h-2V7h2v10zm4 0h-2v-4h2v4z\"/>\n",
              "    </g>\n",
              "</svg>\n",
              "  </button>\n",
              "\n",
              "<style>\n",
              "  .colab-df-quickchart {\n",
              "      --bg-color: #E8F0FE;\n",
              "      --fill-color: #1967D2;\n",
              "      --hover-bg-color: #E2EBFA;\n",
              "      --hover-fill-color: #174EA6;\n",
              "      --disabled-fill-color: #AAA;\n",
              "      --disabled-bg-color: #DDD;\n",
              "  }\n",
              "\n",
              "  [theme=dark] .colab-df-quickchart {\n",
              "      --bg-color: #3B4455;\n",
              "      --fill-color: #D2E3FC;\n",
              "      --hover-bg-color: #434B5C;\n",
              "      --hover-fill-color: #FFFFFF;\n",
              "      --disabled-bg-color: #3B4455;\n",
              "      --disabled-fill-color: #666;\n",
              "  }\n",
              "\n",
              "  .colab-df-quickchart {\n",
              "    background-color: var(--bg-color);\n",
              "    border: none;\n",
              "    border-radius: 50%;\n",
              "    cursor: pointer;\n",
              "    display: none;\n",
              "    fill: var(--fill-color);\n",
              "    height: 32px;\n",
              "    padding: 0;\n",
              "    width: 32px;\n",
              "  }\n",
              "\n",
              "  .colab-df-quickchart:hover {\n",
              "    background-color: var(--hover-bg-color);\n",
              "    box-shadow: 0 1px 2px rgba(60, 64, 67, 0.3), 0 1px 3px 1px rgba(60, 64, 67, 0.15);\n",
              "    fill: var(--button-hover-fill-color);\n",
              "  }\n",
              "\n",
              "  .colab-df-quickchart-complete:disabled,\n",
              "  .colab-df-quickchart-complete:disabled:hover {\n",
              "    background-color: var(--disabled-bg-color);\n",
              "    fill: var(--disabled-fill-color);\n",
              "    box-shadow: none;\n",
              "  }\n",
              "\n",
              "  .colab-df-spinner {\n",
              "    border: 2px solid var(--fill-color);\n",
              "    border-color: transparent;\n",
              "    border-bottom-color: var(--fill-color);\n",
              "    animation:\n",
              "      spin 1s steps(1) infinite;\n",
              "  }\n",
              "\n",
              "  @keyframes spin {\n",
              "    0% {\n",
              "      border-color: transparent;\n",
              "      border-bottom-color: var(--fill-color);\n",
              "      border-left-color: var(--fill-color);\n",
              "    }\n",
              "    20% {\n",
              "      border-color: transparent;\n",
              "      border-left-color: var(--fill-color);\n",
              "      border-top-color: var(--fill-color);\n",
              "    }\n",
              "    30% {\n",
              "      border-color: transparent;\n",
              "      border-left-color: var(--fill-color);\n",
              "      border-top-color: var(--fill-color);\n",
              "      border-right-color: var(--fill-color);\n",
              "    }\n",
              "    40% {\n",
              "      border-color: transparent;\n",
              "      border-right-color: var(--fill-color);\n",
              "      border-top-color: var(--fill-color);\n",
              "    }\n",
              "    60% {\n",
              "      border-color: transparent;\n",
              "      border-right-color: var(--fill-color);\n",
              "    }\n",
              "    80% {\n",
              "      border-color: transparent;\n",
              "      border-right-color: var(--fill-color);\n",
              "      border-bottom-color: var(--fill-color);\n",
              "    }\n",
              "    90% {\n",
              "      border-color: transparent;\n",
              "      border-bottom-color: var(--fill-color);\n",
              "    }\n",
              "  }\n",
              "</style>\n",
              "\n",
              "  <script>\n",
              "    async function quickchart(key) {\n",
              "      const quickchartButtonEl =\n",
              "        document.querySelector('#' + key + ' button');\n",
              "      quickchartButtonEl.disabled = true;  // To prevent multiple clicks.\n",
              "      quickchartButtonEl.classList.add('colab-df-spinner');\n",
              "      try {\n",
              "        const charts = await google.colab.kernel.invokeFunction(\n",
              "            'suggestCharts', [key], {});\n",
              "      } catch (error) {\n",
              "        console.error('Error during call to suggestCharts:', error);\n",
              "      }\n",
              "      quickchartButtonEl.classList.remove('colab-df-spinner');\n",
              "      quickchartButtonEl.classList.add('colab-df-quickchart-complete');\n",
              "    }\n",
              "    (() => {\n",
              "      let quickchartButtonEl =\n",
              "        document.querySelector('#df-a43b2637-fec9-4039-8a08-264d88756fca button');\n",
              "      quickchartButtonEl.style.display =\n",
              "        google.colab.kernel.accessAllowed ? 'block' : 'none';\n",
              "    })();\n",
              "  </script>\n",
              "</div>\n",
              "\n",
              "  <div id=\"id_8ed38309-200c-4740-8df1-05f03210e16a\">\n",
              "    <style>\n",
              "      .colab-df-generate {\n",
              "        background-color: #E8F0FE;\n",
              "        border: none;\n",
              "        border-radius: 50%;\n",
              "        cursor: pointer;\n",
              "        display: none;\n",
              "        fill: #1967D2;\n",
              "        height: 32px;\n",
              "        padding: 0 0 0 0;\n",
              "        width: 32px;\n",
              "      }\n",
              "\n",
              "      .colab-df-generate:hover {\n",
              "        background-color: #E2EBFA;\n",
              "        box-shadow: 0px 1px 2px rgba(60, 64, 67, 0.3), 0px 1px 3px 1px rgba(60, 64, 67, 0.15);\n",
              "        fill: #174EA6;\n",
              "      }\n",
              "\n",
              "      [theme=dark] .colab-df-generate {\n",
              "        background-color: #3B4455;\n",
              "        fill: #D2E3FC;\n",
              "      }\n",
              "\n",
              "      [theme=dark] .colab-df-generate:hover {\n",
              "        background-color: #434B5C;\n",
              "        box-shadow: 0px 1px 3px 1px rgba(0, 0, 0, 0.15);\n",
              "        filter: drop-shadow(0px 1px 2px rgba(0, 0, 0, 0.3));\n",
              "        fill: #FFFFFF;\n",
              "      }\n",
              "    </style>\n",
              "    <button class=\"colab-df-generate\" onclick=\"generateWithVariable('df')\"\n",
              "            title=\"Generate code using this dataframe.\"\n",
              "            style=\"display:none;\">\n",
              "\n",
              "  <svg xmlns=\"http://www.w3.org/2000/svg\" height=\"24px\"viewBox=\"0 0 24 24\"\n",
              "       width=\"24px\">\n",
              "    <path d=\"M7,19H8.4L18.45,9,17,7.55,7,17.6ZM5,21V16.75L18.45,3.32a2,2,0,0,1,2.83,0l1.4,1.43a1.91,1.91,0,0,1,.58,1.4,1.91,1.91,0,0,1-.58,1.4L9.25,21ZM18.45,9,17,7.55Zm-12,3A5.31,5.31,0,0,0,4.9,8.1,5.31,5.31,0,0,0,1,6.5,5.31,5.31,0,0,0,4.9,4.9,5.31,5.31,0,0,0,6.5,1,5.31,5.31,0,0,0,8.1,4.9,5.31,5.31,0,0,0,12,6.5,5.46,5.46,0,0,0,6.5,12Z\"/>\n",
              "  </svg>\n",
              "    </button>\n",
              "    <script>\n",
              "      (() => {\n",
              "      const buttonEl =\n",
              "        document.querySelector('#id_8ed38309-200c-4740-8df1-05f03210e16a button.colab-df-generate');\n",
              "      buttonEl.style.display =\n",
              "        google.colab.kernel.accessAllowed ? 'block' : 'none';\n",
              "\n",
              "      buttonEl.onclick = () => {\n",
              "        google.colab.notebook.generateWithVariable('df');\n",
              "      }\n",
              "      })();\n",
              "    </script>\n",
              "  </div>\n",
              "\n",
              "    </div>\n",
              "  </div>\n"
            ],
            "application/vnd.google.colaboratory.intrinsic+json": {
              "type": "dataframe",
              "variable_name": "df",
              "summary": "{\n  \"name\": \"df\",\n  \"rows\": 962,\n  \"fields\": [\n    {\n      \"column\": \"Category\",\n      \"properties\": {\n        \"dtype\": \"category\",\n        \"num_unique_values\": 25,\n        \"samples\": [\n          \"Civil Engineer\",\n          \"DevOps Engineer\",\n          \"Data Science\"\n        ],\n        \"semantic_type\": \"\",\n        \"description\": \"\"\n      }\n    },\n    {\n      \"column\": \"Resume\",\n      \"properties\": {\n        \"dtype\": \"category\",\n        \"num_unique_values\": 166,\n        \"samples\": [\n          \"KEY COMPETENCIES \\u00e2\\u009c\\u00b6Multi - Operations Management\\u00e2\\u009c\\u00b6People Management \\u00e2\\u009c\\u00b6Customer Services - Emails \\u00e2\\u009c\\u00b6 MIS \\u00e2\\u009c\\u00b6Vendor & Client Services Management\\u00e2\\u009c\\u00b6Cross Functional Coordination\\u00e2\\u009c\\u00b6Banking & Financial Services\\u00e2\\u009c\\u00b6 Transaction Monitoring * ATM Operations \\u00e2\\u009c\\u00b6 & Prepaid Card Operations (Pre-Issuance & Post-Issuance) \\u00e2\\u009c\\u00b6 POS Operations * JOB PROFILE & SKILLS: \\u00e2\\u0080\\u00a2 An effective communicator with excellent relationship building & interpersonal skills. Strong analytical, problem solving & organizational abilities. \\u00e2\\u0080\\u00a2 Extensive experience in managing operations with demonstrated leadership qualities & organisational skills during the tenure. \\u00e2\\u0080\\u00a2 Managing customer centric operations & ensuring customer satisfaction by achieving service quality norms. \\u00e2\\u0080\\u00a2 Analyzing of all operational problems, customer complaints and take preventive and corrective actions to resolve the same. \\u00e2\\u0080\\u00a2 Receive and respond to Key customer inquiries in an effective manner and provide relevant and timely information. \\u00e2\\u0080\\u00a2 Deft in steering banking back-end operations, analyzing risks and managing delinquencies with dexterity across applying techniques for maximizing recoveries and minimizing credit losses. \\u00e2\\u0080\\u00a2 Analyzed & identified training needs of the team members and developing, organizing and conducting training programs and manage bottom quartile team to improve their performance. \\u00e2\\u0080\\u00a2 Preparing and maintaining daily MIS reports to evaluate the performance and efficiency of the process relate to various verticals. \\u00e2\\u0080\\u00a2 Measuring the performance of the processes in terms of efficiency and effectiveness matrix and ensuring adherence to SLA. \\u00e2\\u0080\\u00a2 Major Activities Define processes for Field Services were monitored and necessary checks were executed and controlled. Also measured Vendor SLA by analyzing the TAT of vendors & the Client SLA provided to us. \\u00e2\\u0080\\u00a2 As per company procedures, handling & ensuring vendor's payment issues to be sorted out &payments are processed on quarterly basis. \\u00e2\\u0080\\u00a2 Appropriately plan and execute each skill of operations in accordance with the department's policies and procedures. \\u00e2\\u0080\\u00a2 Manage relationships with business team, software development team and other services to achieve project objectives. Different software Worked till now: - a. CTL prime - Axis Bank Credit Cards b. Insight - For POS Machine technical operations for Amex (MID & TID Generation- ATOS (Venture Infotek) c. Ticket Management System - TATA Communications Private Services Ltd (ATM - NOC Operations) d. Branch Portal (Yalamanchili Software Exports Ltd) - Prepaid Cards (SBI Bank & Zaggle Prepaid Oceans Services Ltd) Zaggle Prepaid Ocean Services Pvt Ltd Oct, 2017 to Till Date Designation: Manager - Operations (Payment Industry - Prepaid Cards - INR) Education Details \\r\\n  Commerce Mumbai, Maharashtra Mumbai University\\r\\nOperations Manager \\r\\n\\r\\nService Manager - Operations (Payment Industry - Prepaid Cards - INR & FTC)\\r\\nSkill Details \\r\\nOPERATIONS- Exprience - 73 months\\r\\nSATISFACTION- Exprience - 48 months\\r\\nTRAINING- Exprience - 24 months\\r\\nNOC- Exprience - 23 months\\r\\nPOINT OF SALE- Exprience - 20 monthsCompany Details \\r\\ncompany - Zaggle Prepaid Ocean Services Pvt Ltd\\r\\ndescription - Card Operations\\r\\ncompany - Yalamanchili Software Exports Ltd\\r\\ndescription - 24*7 Operations Pvt Ltd) Dec 2015 to Feb 2017\\r\\n\\r\\nDesignation: Service Manager - Operations (Payment Industry - Prepaid Cards - INR & FTC)\\r\\n\\r\\nKey Contributions: \\u00e2\\u0080\\u00a2 A result-oriented business professional in planning, executing& managing processes, improving efficiency of operations, team building and detailing process information to determine effective result into operations.\\r\\n\\u00e2\\u0080\\u00a2 Ensuring PINs generation (SLA) is maintained and chargeback cases are raised in perfect timeframe.\\r\\n\\u00e2\\u0080\\u00a2 Managing email customer services properly and ensuring the emails are replied properly. Also, ensuring transaction monitoring is properly managed 24/7.\\r\\n\\u00e2\\u0080\\u00a2 Assisting Bankers (SBI & Associated Banks) for their BCP plans by getting executed in the system with the help of DR-PR plans & vice versa or any other business requirements.\\r\\n\\u00e2\\u0080\\u00a2 Expertise in maintaining highest level of quality in operations; ensuring adherence to all the quality parameters and procedures as per the stringent norms.\\r\\n\\u00e2\\u0080\\u00a2 Lead, manage and supervise the execution of external audit engagements and responsible for presenting the findings & developing a quality reports to the senior Management and Clients.\\r\\n\\u00e2\\u0080\\u00a2 Coach/mentor (20) team members to perform at a higher level by giving opportunities, providing timely continuous feedback and working with staff to improve their communication, time management, decision making, organization, and analytical skills.\\r\\n\\u00e2\\u0080\\u00a2 Providing the solutions and services to the client in their own premises with aforesaid count of team members.\\r\\n\\u00e2\\u0080\\u00a2 Also ensuring end to end process of PR & DR as per client requirements (PR- DR & DR -PR) by interacting with internal & external stakeholders.\\r\\n\\u00e2\\u0080\\u00a2 Determining process gaps and designing & conducting training programs to enhance operational efficiency and retain talent by providing optimum opportunities for personal and professional growth.\\r\\ncompany - Credit Cards\\r\\ndescription - Ensured highest standard of customer satisfaction and quality service; developing new policies and procedures to improve based on customer feedback and resolving customer queries via correspondence, inbound calls & email channels with the strength of (12-16) Team members.\\r\\ncompany - AGS Transact Technologies Limited\\r\\ndescription - Key Contributions: Lead - SPOC to Banks\\r\\ncompany - TATA Communications Payment Solutions Ltd\\r\\ndescription - To make ATMs operational within TAT by analyzing the issue is technical or non-technical and also by interacting with internal & external stakeholders.\\r\\ncompany - Vertex Customer Solutions India Private Ltd\\r\\ndescription - Key Contributions: \\u00e2\\u0080\\u00a2 Build positive working relationship with all team members and clients by keeping Management informed   of KYC document collection & con-current audit progress, responding timely to Management inquiries, understanding the business and conducting self professionally.\\r\\ncompany - Financial Inclusion Network & Operations Limited\\r\\ndescription - Key Contributions: POS-Operations \\u00e2\\u0080\\u00a2 Cascading the adherence of process is strictly followed by team members & training them to reduce the downtime.\\r\\n\\u00e2\\u0080\\u00a2 Managing Stock of EDC Terminals \\u00e2\\u0080\\u00a2 Managing Deployments of terminals through Multiple teams \\u00e2\\u0080\\u00a2 Would have worked with multiple terminal make & model \\u00e2\\u0080\\u00a2 Managing Inward, Outward & QC of applications installed in the POS machines.\\r\\ncompany - Venture Infotek Private Ltd\\r\\ndescription - Key Contributions: POS-Operations\\r\\ncompany - Axis Bank Ltd - Customer Services\\r\\ndescription - Aug 2006 to Oct 2009 (Ma-Foi&I- smart)\\r\\n\\r\\nDesignation: Team Leader/Executive - Emails, Phone Banking & Correspondence Unit (Snail Mails)\",\n          \"Skill Set: Hadoop, Map Reduce, HDFS, Hive, Sqoop, java. Duration: 2016 to 2017. Role: Hadoop Developer Rplus offers an quick, simple and powerful cloud based Solution, Demand Sense to accurately predict demand for your product in all your markets which Combines Enterprise and External Data to predict demand more accurately through Uses Social Conversation and Sentiments to derive demand and Identifies significant drivers of sale out of hordes of factors that Selects the best suited model out of multiple forecasting models for each product. Responsibilities: \\u00e2\\u0080\\u00a2 Involved in deploying the product for customers, gathering requirements and algorithm optimization at backend of the product. \\u00e2\\u0080\\u00a2 Load and transform Large Datasets of structured semi structured. \\u00e2\\u0080\\u00a2 Responsible to manage data coming from different sources and application \\u00e2\\u0080\\u00a2 Supported Map Reduce Programs those are running on the cluster \\u00e2\\u0080\\u00a2 Involved in creating Hive tables, loading with data and writing hive queries which will run internally in map reduce way.Education Details \\r\\n\\r\\nHadoop Developer \\r\\n\\r\\nHadoop Developer - Braindatawire\\r\\nSkill Details \\r\\nAPACHE HADOOP HDFS- Exprience - 49 months\\r\\nAPACHE HADOOP SQOOP- Exprience - 49 months\\r\\nHadoop- Exprience - 49 months\\r\\nHADOOP- Exprience - 49 months\\r\\nHADOOP DISTRIBUTED FILE SYSTEM- Exprience - 49 monthsCompany Details \\r\\ncompany - Braindatawire\\r\\ndescription - Technical Skills:\\r\\n\\u00e2\\u0080\\u00a2   Programming: Core Java, Map Reduce, Scala\\r\\n\\u00e2\\u0080\\u00a2   Hadoop Tools: HDFS, Spark, Map Reduce, Sqoop, Hive, Hbase\\r\\n\\u00e2\\u0080\\u00a2   Database: MySQL, Oracle\\r\\n\\u00e2\\u0080\\u00a2   Scripting: Shell Scripting\\r\\n\\u00e2\\u0080\\u00a2   IDE: Eclipse\\r\\n\\u00e2\\u0080\\u00a2   Operating Systems: Linux (CentOS), Windows\\r\\n\\u00e2\\u0080\\u00a2   Source Control: Git (Github)\",\n          \"IT Skills: Area Exposure Modeling Tool: Bizagi, MS Visio Prototyping Tool: Indigo Studio. Documentation: MS Office (MS Word, MS Excel, MS Power Point) Testing Proficiency: Smoke, Sanity, Integration, Functional, Acceptance and UI Methodology implemented: Waterfall, Agile (Scrum) Database: SQL Testing Tool: HPQC Business Exposure Education Details \\r\\n Bachelor Of Computer Engineering Computer Engineering Mumbai, Maharashtra Thadomal Shahani Engineering college\\r\\n Diploma Computer Engineering Ulhasnagar, Maharashtra Institute of Technology\\r\\n Secondary School Certificate  Ulhasnagar, Maharashtra New English High School\\r\\nSenior Business Analyst - RPA \\r\\n\\r\\nSenior Business Analyst - RPA - Hexaware Technologies\\r\\nSkill Details \\r\\nDOCUMENTATION- Exprience - 47 months\\r\\nTESTING- Exprience - 29 months\\r\\nINTEGRATION- Exprience - 25 months\\r\\nINTEGRATOR- Exprience - 25 months\\r\\nPROTOTYPE- Exprience - 13 monthsCompany Details \\r\\ncompany - Hexaware Technologies\\r\\ndescription - Working as a RPA Business Analyst\\r\\ncompany - BBH- Brown Brothers Harriman & Co\\r\\ndescription - is a private bank that provides commercial banking, investment management, brokerage, and trust services to private companies and individuals. It also performs merger advisory, foreign exchange, custody services, commercial banking, and corporate financing services.\\r\\n\\r\\nResponsibilities: \\u00e2\\u0080\\u00a2 Performed Automation Assessment of various Processes and identified processes which can be candidates of RPA.\\r\\n\\u00e2\\u0080\\u00a2 Conducting Assessment that involves an initial Understanding of the Existing System, their technology, processes, Usage of the tools, Feasibility of tool with automation tool along with automation ROI analysis.\\r\\n\\u00e2\\u0080\\u00a2 Preparing the Automation Potential Sheet which describes the steps in the process, the volume and frequency of the transaction, the AHT taken by SME to perform the process and depending on the steps that could be automated, Automation potential and the manual efforts that will be saved are calculated.\\r\\nCalculating the complexity of the Process which is considered for automation and depending on all these factors Number of Bots and Number of Automation tool Licenses are determined.\\r\\n\\u00e2\\u0080\\u00a2 Implementing a Proof of Concept (POC) to Validate Feasibility by executing the selected critical use cases for conducting a POC which will helps to identify financial and operational benefits and provide recommendations regarding the actual need for complete automation.\\r\\n\\u00e2\\u0080\\u00a2 Gathering business requirements by conducting detailed interviews with business users, stakeholders, and Subject Matter Experts (SME's) \\u00e2\\u0080\\u00a2 Preparing Business Requirement Document and then converted Business requirements into Functional Requirements Specification.\\r\\n \\u00e2\\u0080\\u00a2 Constructing prototype early toward a design acceptable to the customer and feasible.\\r\\n\\u00e2\\u0080\\u00a2 Assisting in designing test plans, test scenarios and test cases for integration, regression, and user acceptance testing (UAT) to improve the overall quality of the Automation.\\r\\n\\u00e2\\u0080\\u00a2 Participating regularly in Walkthroughs and Review meetings with Project Manager, QA Engineers, and Development team.\\r\\n\\u00e2\\u0080\\u00a2 Regularly interacting with offshore and onshore development teams.\\r\\ncompany - FADV - First Advantage\\r\\ndescription - is a criminal background check company that delivers global solutions ranging from employment screenings to background checks.\\r\\nThe following are the processes which were covered:\\r\\nEmail Process, Research Process, Review Process.\\r\\n\\r\\nResponsibilities: \\u00e2\\u0080\\u00a2 Requirement Gathering through conducting Interviews & Brainstorming sessions with stakeholders \\u00e2\\u0080\\u00a2 To develop decision models and execute those rules as per the use case specifications.\\r\\n\\u00e2\\u0080\\u00a2 To Test/validate the decision models against document test data.\\r\\n\\u00e2\\u0080\\u00a2 To maintain and enhance the decision models for changes in regulations as per use case specifications.\\r\\n\\u00e2\\u0080\\u00a2 Responsible for performing the business research that will make a business growth.\\r\\n\\u00e2\\u0080\\u00a2 Developing a clear understanding of existing business functions and processes.\\r\\n\\u00e2\\u0080\\u00a2 Effectively communicate with the onsite clients for the queries, suggestions, and update.\\r\\n\\u00e2\\u0080\\u00a2 Giving suggestions to enhance the current processes.\\r\\n\\u00e2\\u0080\\u00a2 Identifying areas for process improvement.\\r\\n\\u00e2\\u0080\\u00a2 Flagging up potential problems at an early stage.\\r\\n\\u00e2\\u0080\\u00a2 Preparing PowerPoint presentations and documents for business meetings.\\r\\n\\u00e2\\u0080\\u00a2 Using any information gathered to write up detailed reports.\\r\\n\\u00e2\\u0080\\u00a2 Highlighting risks and issues that could impact project delivery.\\r\\n\\u00e2\\u0080\\u00a2 Able to work accurately.\\r\\n\\u00e2\\u0080\\u00a2 To develop and maintain documentation for internal team training and client end user operations.\\r\\n\\u00e2\\u0080\\u00a2 To work efficiently with team members and across teams.\\r\\n\\u00e2\\u0080\\u00a2 To mentor and train junior team members.\\r\\ncompany - Clinical Testing, Lab Work and Diagnostic Testing\\r\\ndescription - IQVIA provides services to its customers this includes: Clinical Testing, Lab Work and Diagnostic Testing under clinical trial. These customers need to pay to IQVIA and aging details and invoices are generated for the same.\\r\\nThe following are the processes which were covered:\\r\\n\\r\\nTracking Payments, Automated Real Time Metrics Reporting (Dashboard), Past Due Notifications, AR Statements, Credit/Rebill.\\r\\nResponsibilities: \\u00e2\\u0080\\u00a2 Conducting meetings with clients and key stakeholders to gather requirements, analyze, finalize and have formal sign-offs from approvers Gather and perform analysis of the business requirements \\u00e2\\u0080\\u00a2 Translating the business requirements into the Business Requirement Document [BRD], Functional Requirement Document [FRD].\\r\\n\\u00e2\\u0080\\u00a2 Facilitating meetings with the appropriate subject matter experts in both business and technology teams \\u00e2\\u0080\\u00a2 Coordinating with business user community for the execution of user acceptance test as well as tracking issues \\u00e2\\u0080\\u00a2 Working, collaborating and coordinating with Offshore and Onsite team members to fulfill the BA responsibilities from project initiation to Post-Implementation \\u00e2\\u0080\\u00a2 Reviewing the test scripts with business users as well as technology team. Execute test scripts with expected results for the System Integration Test (SIT) and User Acceptance Test (UAT) \\u00e2\\u0080\\u00a2 Coordinating and conducting the Production Acceptance Testing (PAT) with the business users \\u00e2\\u0080\\u00a2 Creating flow diagrams, structure charts, and other types of system or process representations \\u00e2\\u0080\\u00a2 Managing changes to requirements and baseline through a change control process \\u00e2\\u0080\\u00a2 Utilizing standard methods, design and testing tools throughout project development life cycle \\u00e2\\u0080\\u00a2 Work closely with the operational functional teams, operations management, and personnel, and various technology teams to facilitate a shared understanding of requirements and priorities across all areas\\r\\ncompany - Eduavenir IT Solution\\r\\ndescription - Project: M.B.M.S\\r\\n\\r\\nM.B.M.S. - is an Inventory management application that allows user to manage inventory details of different warehouses, having different products located at various locations and help extract what goods have been procured, sold or returned by customers. It generates automated invoicesalong withcustomized reports. It also managescustomer complaint and resolution system implementation along with automated MIS on monthly basis.Sales and forecastingis also developed on MIS System and the streamlining of process of warehousing and dispatch along with online proof of delivery management system (POD documentation) is generated.\\r\\n\\r\\nResponsibilities: \\u00e2\\u0080\\u00a2 Participate in requirement gathering discussion with client to understand the flow of business processes \\u00e2\\u0080\\u00a2 Analyze the requirements and determine the core processes, develop Process Documentation and ensure to stay up-to-date in conjunction with on-going changes \\u00e2\\u0080\\u00a2 Participate in process flow analysis and preparing BRD, SRS.\\r\\n\\u00e2\\u0080\\u00a2 Coordinating with developers, designers & operations teams for various nuances of the project, communicate the stakeholder requirements from requirement /enhancement to implementation and finally deliver the same within estimated timeframe.\\r\\n\\u00e2\\u0080\\u00a2 Support UAT by reviewing test cases, manage version control of documents, software builds.\\r\\n\\u00e2\\u0080\\u00a2 Coordinate with the stakeholders for UAT sign off and coordinate internally for production movement till Golive stage of the application.\\r\\n\\u00e2\\u0080\\u00a2 Provide demo and training to internal and end user using PowerPoint presentation.\\r\\n\\u00e2\\u0080\\u00a2 Resolving project functional &technical issues during UAT.\\r\\n\\u00e2\\u0080\\u00a2 Prioritizing the Production bugs and resolving the same within the estimated timeframe.\\r\\n\\u00e2\\u0080\\u00a2 Preparing Project Status Report and Production Bugs Status to all the stakeholders.\\r\\n\\u00e2\\u0080\\u00a2 Promoting and Networking for online trading platform.\\r\\n\\u00e2\\u0080\\u00a2 Designing query sheet for obtaining and comparison of quotes from various vendors.\\r\\n\\u00e2\\u0080\\u00a2 Development of product codes / material codes for inventory management (Master Data Management)\\r\\ncompany - CAPGEMINI Head Office\\r\\ndescription - Type: Mobile and Device Testing.       Duration: January 2014 - August 2014\\r\\n\\r\\nFollet - An application which takes an electronic request from the user for the books he requires from a particular follet store. This detailed information about books that will include the name of the book, its price, the date of the transaction and the parties involved which will then be sent to follet stores. User then create request for one or more books for a given date. This request is then processed further and user gets a mail of the date when he will be provided with that book.\\r\\n\\r\\nResponsibilities: \\u00e2\\u0080\\u00a2 Understanding the needs and business requirements.\\r\\n\\u00e2\\u0080\\u00a2 Preparing BRD, SRS by eliciting all the requirements from the client and SMEs \\u00e2\\u0080\\u00a2 Understanding the dependency of the modules in the system \\u00e2\\u0080\\u00a2 Preparation of test plan for Unit level and Integration level.\\r\\n\\u00e2\\u0080\\u00a2 Preparation and execution of test cases.\\r\\n\\u00e2\\u0080\\u00a2 Defect tracking, Issue Resolution, Risk Monitoring, Status Tracking, Reporting and Follow-up.\\r\\n\\u00e2\\u0080\\u00a2 Preparation of Test Completion report.\\r\\ncompany - CAPGEMINI Head Office\\r\\ndescription - \\r\\ncompany - CAPGEMINI Head Office\\r\\ndescription - Humana is a health care insurance project of U.S. which deals with supplying various medicines to citizens as per the doctor's reference and patient's insurance policy. This application keeps track of all the medicines user has consumed in the past and generates a patient history. A citizen is given a drug only after the doctor's reference so the doctor's information is also linked with the patient's history.\\r\\n\\r\\nResponsibilities: \\u00e2\\u0080\\u00a2 Understanding the requirements and getting clarifications from client.\\r\\n\\u00e2\\u0080\\u00a2 Involved in writing test cases based on test scenarios and execute them.\\r\\n\\u00e2\\u0080\\u00a2 Ensuring Test Coverage using Requirement Traceability Matrix (RTM) \\u00e2\\u0080\\u00a2 Preparation of Test Completion report.\\r\\ncompany - CAPGEMINI Head Office\\r\\ndescription - Testing Trends WQR (World Quality Report) is an application which allows the users to take a survey on different methods and technologies used for testing. Users can choose to answer any type of questions under three different categories. Users have a facility to search, view and export the data to excel. Also, users get daily and weekly reports through email about the new trends in testing implemented around the globe. Testing Trends WQR app is available on Android and IOS platforms.\\r\\n\\r\\nResponsibilities: \\u00e2\\u0080\\u00a2 Understanding the requirements and getting clarifications from client.\\r\\n\\u00e2\\u0080\\u00a2 Writing test cases based on test scenarios and executed them.\\r\\n\\u00e2\\u0080\\u00a2 Performing different types of testing such as Functional, Integration, System, and UAT.\\r\\n\\u00e2\\u0080\\u00a2 Defect resolution and maintenance of the application.\"\n        ],\n        \"semantic_type\": \"\",\n        \"description\": \"\"\n      }\n    }\n  ]\n}"
            }
          },
          "metadata": {},
          "execution_count": 3
        }
      ]
    },
    {
      "cell_type": "code",
      "source": [
        "df.shape"
      ],
      "metadata": {
        "colab": {
          "base_uri": "https://localhost:8080/"
        },
        "id": "Q3V4FgNkDXrR",
        "outputId": "ae4dfb96-d7ab-4807-cd4e-3d59032ad33a"
      },
      "execution_count": 4,
      "outputs": [
        {
          "output_type": "execute_result",
          "data": {
            "text/plain": [
              "(962, 2)"
            ]
          },
          "metadata": {},
          "execution_count": 4
        }
      ]
    },
    {
      "cell_type": "code",
      "source": [
        "df.describe()"
      ],
      "metadata": {
        "colab": {
          "base_uri": "https://localhost:8080/",
          "height": 175
        },
        "id": "MEgEi0X-Dak8",
        "outputId": "f4a5d33c-938a-4272-e378-8118c6c6a405"
      },
      "execution_count": 5,
      "outputs": [
        {
          "output_type": "execute_result",
          "data": {
            "text/plain": [
              "              Category                                             Resume\n",
              "count              962                                                962\n",
              "unique              25                                                166\n",
              "top     Java Developer  Technical Skills Web Technologies: Angular JS,...\n",
              "freq                84                                                 18"
            ],
            "text/html": [
              "\n",
              "  <div id=\"df-f631ecdf-6d92-49d6-9d46-0a6eab7a57c2\" class=\"colab-df-container\">\n",
              "    <div>\n",
              "<style scoped>\n",
              "    .dataframe tbody tr th:only-of-type {\n",
              "        vertical-align: middle;\n",
              "    }\n",
              "\n",
              "    .dataframe tbody tr th {\n",
              "        vertical-align: top;\n",
              "    }\n",
              "\n",
              "    .dataframe thead th {\n",
              "        text-align: right;\n",
              "    }\n",
              "</style>\n",
              "<table border=\"1\" class=\"dataframe\">\n",
              "  <thead>\n",
              "    <tr style=\"text-align: right;\">\n",
              "      <th></th>\n",
              "      <th>Category</th>\n",
              "      <th>Resume</th>\n",
              "    </tr>\n",
              "  </thead>\n",
              "  <tbody>\n",
              "    <tr>\n",
              "      <th>count</th>\n",
              "      <td>962</td>\n",
              "      <td>962</td>\n",
              "    </tr>\n",
              "    <tr>\n",
              "      <th>unique</th>\n",
              "      <td>25</td>\n",
              "      <td>166</td>\n",
              "    </tr>\n",
              "    <tr>\n",
              "      <th>top</th>\n",
              "      <td>Java Developer</td>\n",
              "      <td>Technical Skills Web Technologies: Angular JS,...</td>\n",
              "    </tr>\n",
              "    <tr>\n",
              "      <th>freq</th>\n",
              "      <td>84</td>\n",
              "      <td>18</td>\n",
              "    </tr>\n",
              "  </tbody>\n",
              "</table>\n",
              "</div>\n",
              "    <div class=\"colab-df-buttons\">\n",
              "\n",
              "  <div class=\"colab-df-container\">\n",
              "    <button class=\"colab-df-convert\" onclick=\"convertToInteractive('df-f631ecdf-6d92-49d6-9d46-0a6eab7a57c2')\"\n",
              "            title=\"Convert this dataframe to an interactive table.\"\n",
              "            style=\"display:none;\">\n",
              "\n",
              "  <svg xmlns=\"http://www.w3.org/2000/svg\" height=\"24px\" viewBox=\"0 -960 960 960\">\n",
              "    <path d=\"M120-120v-720h720v720H120Zm60-500h600v-160H180v160Zm220 220h160v-160H400v160Zm0 220h160v-160H400v160ZM180-400h160v-160H180v160Zm440 0h160v-160H620v160ZM180-180h160v-160H180v160Zm440 0h160v-160H620v160Z\"/>\n",
              "  </svg>\n",
              "    </button>\n",
              "\n",
              "  <style>\n",
              "    .colab-df-container {\n",
              "      display:flex;\n",
              "      gap: 12px;\n",
              "    }\n",
              "\n",
              "    .colab-df-convert {\n",
              "      background-color: #E8F0FE;\n",
              "      border: none;\n",
              "      border-radius: 50%;\n",
              "      cursor: pointer;\n",
              "      display: none;\n",
              "      fill: #1967D2;\n",
              "      height: 32px;\n",
              "      padding: 0 0 0 0;\n",
              "      width: 32px;\n",
              "    }\n",
              "\n",
              "    .colab-df-convert:hover {\n",
              "      background-color: #E2EBFA;\n",
              "      box-shadow: 0px 1px 2px rgba(60, 64, 67, 0.3), 0px 1px 3px 1px rgba(60, 64, 67, 0.15);\n",
              "      fill: #174EA6;\n",
              "    }\n",
              "\n",
              "    .colab-df-buttons div {\n",
              "      margin-bottom: 4px;\n",
              "    }\n",
              "\n",
              "    [theme=dark] .colab-df-convert {\n",
              "      background-color: #3B4455;\n",
              "      fill: #D2E3FC;\n",
              "    }\n",
              "\n",
              "    [theme=dark] .colab-df-convert:hover {\n",
              "      background-color: #434B5C;\n",
              "      box-shadow: 0px 1px 3px 1px rgba(0, 0, 0, 0.15);\n",
              "      filter: drop-shadow(0px 1px 2px rgba(0, 0, 0, 0.3));\n",
              "      fill: #FFFFFF;\n",
              "    }\n",
              "  </style>\n",
              "\n",
              "    <script>\n",
              "      const buttonEl =\n",
              "        document.querySelector('#df-f631ecdf-6d92-49d6-9d46-0a6eab7a57c2 button.colab-df-convert');\n",
              "      buttonEl.style.display =\n",
              "        google.colab.kernel.accessAllowed ? 'block' : 'none';\n",
              "\n",
              "      async function convertToInteractive(key) {\n",
              "        const element = document.querySelector('#df-f631ecdf-6d92-49d6-9d46-0a6eab7a57c2');\n",
              "        const dataTable =\n",
              "          await google.colab.kernel.invokeFunction('convertToInteractive',\n",
              "                                                    [key], {});\n",
              "        if (!dataTable) return;\n",
              "\n",
              "        const docLinkHtml = 'Like what you see? Visit the ' +\n",
              "          '<a target=\"_blank\" href=https://colab.research.google.com/notebooks/data_table.ipynb>data table notebook</a>'\n",
              "          + ' to learn more about interactive tables.';\n",
              "        element.innerHTML = '';\n",
              "        dataTable['output_type'] = 'display_data';\n",
              "        await google.colab.output.renderOutput(dataTable, element);\n",
              "        const docLink = document.createElement('div');\n",
              "        docLink.innerHTML = docLinkHtml;\n",
              "        element.appendChild(docLink);\n",
              "      }\n",
              "    </script>\n",
              "  </div>\n",
              "\n",
              "\n",
              "<div id=\"df-a3726ad2-5d6a-4cbb-b65a-ce716cdb059d\">\n",
              "  <button class=\"colab-df-quickchart\" onclick=\"quickchart('df-a3726ad2-5d6a-4cbb-b65a-ce716cdb059d')\"\n",
              "            title=\"Suggest charts\"\n",
              "            style=\"display:none;\">\n",
              "\n",
              "<svg xmlns=\"http://www.w3.org/2000/svg\" height=\"24px\"viewBox=\"0 0 24 24\"\n",
              "     width=\"24px\">\n",
              "    <g>\n",
              "        <path d=\"M19 3H5c-1.1 0-2 .9-2 2v14c0 1.1.9 2 2 2h14c1.1 0 2-.9 2-2V5c0-1.1-.9-2-2-2zM9 17H7v-7h2v7zm4 0h-2V7h2v10zm4 0h-2v-4h2v4z\"/>\n",
              "    </g>\n",
              "</svg>\n",
              "  </button>\n",
              "\n",
              "<style>\n",
              "  .colab-df-quickchart {\n",
              "      --bg-color: #E8F0FE;\n",
              "      --fill-color: #1967D2;\n",
              "      --hover-bg-color: #E2EBFA;\n",
              "      --hover-fill-color: #174EA6;\n",
              "      --disabled-fill-color: #AAA;\n",
              "      --disabled-bg-color: #DDD;\n",
              "  }\n",
              "\n",
              "  [theme=dark] .colab-df-quickchart {\n",
              "      --bg-color: #3B4455;\n",
              "      --fill-color: #D2E3FC;\n",
              "      --hover-bg-color: #434B5C;\n",
              "      --hover-fill-color: #FFFFFF;\n",
              "      --disabled-bg-color: #3B4455;\n",
              "      --disabled-fill-color: #666;\n",
              "  }\n",
              "\n",
              "  .colab-df-quickchart {\n",
              "    background-color: var(--bg-color);\n",
              "    border: none;\n",
              "    border-radius: 50%;\n",
              "    cursor: pointer;\n",
              "    display: none;\n",
              "    fill: var(--fill-color);\n",
              "    height: 32px;\n",
              "    padding: 0;\n",
              "    width: 32px;\n",
              "  }\n",
              "\n",
              "  .colab-df-quickchart:hover {\n",
              "    background-color: var(--hover-bg-color);\n",
              "    box-shadow: 0 1px 2px rgba(60, 64, 67, 0.3), 0 1px 3px 1px rgba(60, 64, 67, 0.15);\n",
              "    fill: var(--button-hover-fill-color);\n",
              "  }\n",
              "\n",
              "  .colab-df-quickchart-complete:disabled,\n",
              "  .colab-df-quickchart-complete:disabled:hover {\n",
              "    background-color: var(--disabled-bg-color);\n",
              "    fill: var(--disabled-fill-color);\n",
              "    box-shadow: none;\n",
              "  }\n",
              "\n",
              "  .colab-df-spinner {\n",
              "    border: 2px solid var(--fill-color);\n",
              "    border-color: transparent;\n",
              "    border-bottom-color: var(--fill-color);\n",
              "    animation:\n",
              "      spin 1s steps(1) infinite;\n",
              "  }\n",
              "\n",
              "  @keyframes spin {\n",
              "    0% {\n",
              "      border-color: transparent;\n",
              "      border-bottom-color: var(--fill-color);\n",
              "      border-left-color: var(--fill-color);\n",
              "    }\n",
              "    20% {\n",
              "      border-color: transparent;\n",
              "      border-left-color: var(--fill-color);\n",
              "      border-top-color: var(--fill-color);\n",
              "    }\n",
              "    30% {\n",
              "      border-color: transparent;\n",
              "      border-left-color: var(--fill-color);\n",
              "      border-top-color: var(--fill-color);\n",
              "      border-right-color: var(--fill-color);\n",
              "    }\n",
              "    40% {\n",
              "      border-color: transparent;\n",
              "      border-right-color: var(--fill-color);\n",
              "      border-top-color: var(--fill-color);\n",
              "    }\n",
              "    60% {\n",
              "      border-color: transparent;\n",
              "      border-right-color: var(--fill-color);\n",
              "    }\n",
              "    80% {\n",
              "      border-color: transparent;\n",
              "      border-right-color: var(--fill-color);\n",
              "      border-bottom-color: var(--fill-color);\n",
              "    }\n",
              "    90% {\n",
              "      border-color: transparent;\n",
              "      border-bottom-color: var(--fill-color);\n",
              "    }\n",
              "  }\n",
              "</style>\n",
              "\n",
              "  <script>\n",
              "    async function quickchart(key) {\n",
              "      const quickchartButtonEl =\n",
              "        document.querySelector('#' + key + ' button');\n",
              "      quickchartButtonEl.disabled = true;  // To prevent multiple clicks.\n",
              "      quickchartButtonEl.classList.add('colab-df-spinner');\n",
              "      try {\n",
              "        const charts = await google.colab.kernel.invokeFunction(\n",
              "            'suggestCharts', [key], {});\n",
              "      } catch (error) {\n",
              "        console.error('Error during call to suggestCharts:', error);\n",
              "      }\n",
              "      quickchartButtonEl.classList.remove('colab-df-spinner');\n",
              "      quickchartButtonEl.classList.add('colab-df-quickchart-complete');\n",
              "    }\n",
              "    (() => {\n",
              "      let quickchartButtonEl =\n",
              "        document.querySelector('#df-a3726ad2-5d6a-4cbb-b65a-ce716cdb059d button');\n",
              "      quickchartButtonEl.style.display =\n",
              "        google.colab.kernel.accessAllowed ? 'block' : 'none';\n",
              "    })();\n",
              "  </script>\n",
              "</div>\n",
              "\n",
              "    </div>\n",
              "  </div>\n"
            ],
            "application/vnd.google.colaboratory.intrinsic+json": {
              "type": "dataframe",
              "summary": "{\n  \"name\": \"df\",\n  \"rows\": 4,\n  \"fields\": [\n    {\n      \"column\": \"Category\",\n      \"properties\": {\n        \"dtype\": \"string\",\n        \"num_unique_values\": 4,\n        \"samples\": [\n          25,\n          \"84\",\n          \"962\"\n        ],\n        \"semantic_type\": \"\",\n        \"description\": \"\"\n      }\n    },\n    {\n      \"column\": \"Resume\",\n      \"properties\": {\n        \"dtype\": \"string\",\n        \"num_unique_values\": 4,\n        \"samples\": [\n          166,\n          \"18\",\n          \"962\"\n        ],\n        \"semantic_type\": \"\",\n        \"description\": \"\"\n      }\n    }\n  ]\n}"
            }
          },
          "metadata": {},
          "execution_count": 5
        }
      ]
    },
    {
      "cell_type": "code",
      "source": [
        "df['Category'].value_counts()"
      ],
      "metadata": {
        "colab": {
          "base_uri": "https://localhost:8080/",
          "height": 899
        },
        "id": "H5fdwGEdDeYz",
        "outputId": "3fdda778-2e2a-4d1e-9691-58123d1dadc9"
      },
      "execution_count": 6,
      "outputs": [
        {
          "output_type": "execute_result",
          "data": {
            "text/plain": [
              "Category\n",
              "Java Developer               84\n",
              "Testing                      70\n",
              "DevOps Engineer              55\n",
              "Python Developer             48\n",
              "Web Designing                45\n",
              "HR                           44\n",
              "Hadoop                       42\n",
              "Sales                        40\n",
              "Data Science                 40\n",
              "Mechanical Engineer          40\n",
              "ETL Developer                40\n",
              "Blockchain                   40\n",
              "Operations Manager           40\n",
              "Arts                         36\n",
              "Database                     33\n",
              "Health and fitness           30\n",
              "PMO                          30\n",
              "Electrical Engineering       30\n",
              "Business Analyst             28\n",
              "DotNet Developer             28\n",
              "Automation Testing           26\n",
              "Network Security Engineer    25\n",
              "Civil Engineer               24\n",
              "SAP Developer                24\n",
              "Advocate                     20\n",
              "Name: count, dtype: int64"
            ],
            "text/html": [
              "<div>\n",
              "<style scoped>\n",
              "    .dataframe tbody tr th:only-of-type {\n",
              "        vertical-align: middle;\n",
              "    }\n",
              "\n",
              "    .dataframe tbody tr th {\n",
              "        vertical-align: top;\n",
              "    }\n",
              "\n",
              "    .dataframe thead th {\n",
              "        text-align: right;\n",
              "    }\n",
              "</style>\n",
              "<table border=\"1\" class=\"dataframe\">\n",
              "  <thead>\n",
              "    <tr style=\"text-align: right;\">\n",
              "      <th></th>\n",
              "      <th>count</th>\n",
              "    </tr>\n",
              "    <tr>\n",
              "      <th>Category</th>\n",
              "      <th></th>\n",
              "    </tr>\n",
              "  </thead>\n",
              "  <tbody>\n",
              "    <tr>\n",
              "      <th>Java Developer</th>\n",
              "      <td>84</td>\n",
              "    </tr>\n",
              "    <tr>\n",
              "      <th>Testing</th>\n",
              "      <td>70</td>\n",
              "    </tr>\n",
              "    <tr>\n",
              "      <th>DevOps Engineer</th>\n",
              "      <td>55</td>\n",
              "    </tr>\n",
              "    <tr>\n",
              "      <th>Python Developer</th>\n",
              "      <td>48</td>\n",
              "    </tr>\n",
              "    <tr>\n",
              "      <th>Web Designing</th>\n",
              "      <td>45</td>\n",
              "    </tr>\n",
              "    <tr>\n",
              "      <th>HR</th>\n",
              "      <td>44</td>\n",
              "    </tr>\n",
              "    <tr>\n",
              "      <th>Hadoop</th>\n",
              "      <td>42</td>\n",
              "    </tr>\n",
              "    <tr>\n",
              "      <th>Sales</th>\n",
              "      <td>40</td>\n",
              "    </tr>\n",
              "    <tr>\n",
              "      <th>Data Science</th>\n",
              "      <td>40</td>\n",
              "    </tr>\n",
              "    <tr>\n",
              "      <th>Mechanical Engineer</th>\n",
              "      <td>40</td>\n",
              "    </tr>\n",
              "    <tr>\n",
              "      <th>ETL Developer</th>\n",
              "      <td>40</td>\n",
              "    </tr>\n",
              "    <tr>\n",
              "      <th>Blockchain</th>\n",
              "      <td>40</td>\n",
              "    </tr>\n",
              "    <tr>\n",
              "      <th>Operations Manager</th>\n",
              "      <td>40</td>\n",
              "    </tr>\n",
              "    <tr>\n",
              "      <th>Arts</th>\n",
              "      <td>36</td>\n",
              "    </tr>\n",
              "    <tr>\n",
              "      <th>Database</th>\n",
              "      <td>33</td>\n",
              "    </tr>\n",
              "    <tr>\n",
              "      <th>Health and fitness</th>\n",
              "      <td>30</td>\n",
              "    </tr>\n",
              "    <tr>\n",
              "      <th>PMO</th>\n",
              "      <td>30</td>\n",
              "    </tr>\n",
              "    <tr>\n",
              "      <th>Electrical Engineering</th>\n",
              "      <td>30</td>\n",
              "    </tr>\n",
              "    <tr>\n",
              "      <th>Business Analyst</th>\n",
              "      <td>28</td>\n",
              "    </tr>\n",
              "    <tr>\n",
              "      <th>DotNet Developer</th>\n",
              "      <td>28</td>\n",
              "    </tr>\n",
              "    <tr>\n",
              "      <th>Automation Testing</th>\n",
              "      <td>26</td>\n",
              "    </tr>\n",
              "    <tr>\n",
              "      <th>Network Security Engineer</th>\n",
              "      <td>25</td>\n",
              "    </tr>\n",
              "    <tr>\n",
              "      <th>Civil Engineer</th>\n",
              "      <td>24</td>\n",
              "    </tr>\n",
              "    <tr>\n",
              "      <th>SAP Developer</th>\n",
              "      <td>24</td>\n",
              "    </tr>\n",
              "    <tr>\n",
              "      <th>Advocate</th>\n",
              "      <td>20</td>\n",
              "    </tr>\n",
              "  </tbody>\n",
              "</table>\n",
              "</div><br><label><b>dtype:</b> int64</label>"
            ]
          },
          "metadata": {},
          "execution_count": 6
        }
      ]
    },
    {
      "cell_type": "code",
      "source": [
        "sns.countplot(df['Category'])"
      ],
      "metadata": {
        "colab": {
          "base_uri": "https://localhost:8080/",
          "height": 466
        },
        "id": "4y8PREudDmRP",
        "outputId": "f436b1c1-f6d6-4d61-b300-615f109ad69e"
      },
      "execution_count": 7,
      "outputs": [
        {
          "output_type": "execute_result",
          "data": {
            "text/plain": [
              "<Axes: xlabel='count', ylabel='Category'>"
            ]
          },
          "metadata": {},
          "execution_count": 7
        },
        {
          "output_type": "display_data",
          "data": {
            "text/plain": [
              "<Figure size 640x480 with 1 Axes>"
            ],
            "image/png": "[encoded data removed]"
          },
          "metadata": {}
        }
      ]
    },
    {
      "cell_type": "code",
      "source": [
        "counts = df['Category'].value_counts()\n",
        "labels = df['Category'].unique()\n",
        "plt.figure(figsize=(10, 10))\n",
        "plt.pie(counts, labels=labels)\n",
        "plt.title('Category Distribution')\n",
        "plt.show()"
      ],
      "metadata": {
        "colab": {
          "base_uri": "https://localhost:8080/",
          "height": 829
        },
        "id": "ZcPtFAQ8D0HI",
        "outputId": "1fd34a98-9c58-4936-ad1a-0e9d8d5876fa"
      },
      "execution_count": 8,
      "outputs": [
        {
          "output_type": "display_data",
          "data": {
            "text/plain": [
              "<Figure size 1000x1000 with 1 Axes>"
            ],
            "image/png": "[encoded data removed]"
          },
          "metadata": {}
        }
      ]
    },
    {
      "cell_type": "code",
      "source": [
        "#Cleaning Data"
      ],
      "metadata": {
        "id": "49-uYC7IE6cU"
      },
      "execution_count": 9,
      "outputs": []
    },
    {
      "cell_type": "code",
      "source": [
        "df['Resume'][0]"
      ],
      "metadata": {
        "colab": {
          "base_uri": "https://localhost:8080/",
          "height": 140
        },
        "id": "x_o9JhLHPs7y",
        "outputId": "5d941eff-ee92-4cd0-878c-ac792840af78"
      },
      "execution_count": 10,
      "outputs": [
        {
          "output_type": "execute_result",
          "data": {
            "text/plain": [
              "'Skills * Programming Languages: Python (pandas, numpy, scipy, scikit-learn, matplotlib), Sql, Java, JavaScript/JQuery. * Machine learning: Regression, SVM, NaÃ¯ve Bayes, KNN, Random Forest, Decision Trees, Boosting techniques, Cluster Analysis, Word Embedding, Sentiment Analysis, Natural Language processing, Dimensionality reduction, Topic Modelling (LDA, NMF), PCA & Neural Nets. * Database Visualizations: Mysql, SqlServer, Cassandra, Hbase, ElasticSearch D3.js, DC.js, Plotly, kibana, matplotlib, ggplot, Tableau. * Others: Regular Expression, HTML, CSS, Angular 6, Logstash, Kafka, Python Flask, Git, Docker, computer vision - Open CV and understanding of Deep learning.Education Details \\r\\n\\r\\nData Science Assurance Associate \\r\\n\\r\\nData Science Assurance Associate - Ernst & Young LLP\\r\\nSkill Details \\r\\nJAVASCRIPT- Exprience - 24 months\\r\\njQuery- Exprience - 24 months\\r\\nPython- Exprience - 24 monthsCompany Details \\r\\ncompany - Ernst & Young LLP\\r\\ndescription - Fraud Investigations and Dispute Services   Assurance\\r\\nTECHNOLOGY ASSISTED REVIEW\\r\\nTAR (Technology Assisted Review) assists in accelerating the review process and run analytics and generate reports.\\r\\n* Core member of a team helped in developing automated review platform tool from scratch for assisting E discovery domain, this tool implements predictive coding and topic modelling by automating reviews, resulting in reduced labor costs and time spent during the lawyers review.\\r\\n* Understand the end to end flow of the solution, doing research and development for classification models, predictive analysis and mining of the information present in text data. Worked on analyzing the outputs and precision monitoring for the entire tool.\\r\\n* TAR assists in predictive coding, topic modelling from the evidence by following EY standards. Developed the classifier models in order to identify \"red flags\" and fraud-related issues.\\r\\n\\r\\nTools & Technologies: Python, scikit-learn, tfidf, word2vec, doc2vec, cosine similarity, NaÃ¯ve Bayes, LDA, NMF for topic modelling, Vader and text blob for sentiment analysis. Matplot lib, Tableau dashboard for reporting.\\r\\n\\r\\nMULTIPLE DATA SCIENCE AND ANALYTIC PROJECTS (USA CLIENTS)\\r\\nTEXT ANALYTICS - MOTOR VEHICLE CUSTOMER REVIEW DATA * Received customer feedback survey data for past one year. Performed sentiment (Positive, Negative & Neutral) and time series analysis on customer comments across all 4 categories.\\r\\n* Created heat map of terms by survey category based on frequency of words * Extracted Positive and Negative words across all the Survey categories and plotted Word cloud.\\r\\n* Created customized tableau dashboards for effective reporting and visualizations.\\r\\nCHATBOT * Developed a user friendly chatbot for one of our Products which handle simple questions about hours of operation, reservation options and so on.\\r\\n* This chat bot serves entire product related questions. Giving overview of tool via QA platform and also give recommendation responses so that user question to build chain of relevant answer.\\r\\n* This too has intelligence to build the pipeline of questions as per user requirement and asks the relevant /recommended questions.\\r\\n\\r\\nTools & Technologies: Python, Natural language processing, NLTK, spacy, topic modelling, Sentiment analysis, Word Embedding, scikit-learn, JavaScript/JQuery, SqlServer\\r\\n\\r\\nINFORMATION GOVERNANCE\\r\\nOrganizations to make informed decisions about all of the information they store. The integrated Information Governance portfolio synthesizes intelligence across unstructured data sources and facilitates action to ensure organizations are best positioned to counter information risk.\\r\\n* Scan data from multiple sources of formats and parse different file formats, extract Meta data information, push results for indexing elastic search and created customized, interactive dashboards using kibana.\\r\\n* Preforming ROT Analysis on the data which give information of data which helps identify content that is either Redundant, Outdated, or Trivial.\\r\\n* Preforming full-text search analysis on elastic search with predefined methods which can tag as (PII) personally identifiable information (social security numbers, addresses, names, etc.) which frequently targeted during cyber-attacks.\\r\\nTools & Technologies: Python, Flask, Elastic Search, Kibana\\r\\n\\r\\nFRAUD ANALYTIC PLATFORM\\r\\nFraud Analytics and investigative platform to review all red flag cases.\\r\\nâ\\x80¢ FAP is a Fraud Analytics and investigative platform with inbuilt case manager and suite of Analytics for various ERP systems.\\r\\n* It can be used by clients to interrogate their Accounting systems for identifying the anomalies which can be indicators of fraud by running advanced analytics\\r\\nTools & Technologies: HTML, JavaScript, SqlServer, JQuery, CSS, Bootstrap, Node.js, D3.js, DC.js'"
            ],
            "application/vnd.google.colaboratory.intrinsic+json": {
              "type": "string"
            }
          },
          "metadata": {},
          "execution_count": 10
        }
      ]
    },
    {
      "cell_type": "code",
      "source": [
        "import re\n",
        "def cleanResume(txt):\n",
        "    cleanText = re.sub('http\\S+\\s', ' ', txt)\n",
        "    cleanText = re.sub('RT|cc', ' ', cleanText)\n",
        "    cleanText = re.sub('#\\S+\\s', ' ', cleanText)\n",
        "    cleanText = re.sub('@\\S+', '  ', cleanText)\n",
        "    cleanText = re.sub('[%s]' % re.escape(\"\"\"!\"#$%&'()*+,-./:;<=>?@[\\]^_`{|}~\"\"\"), ' ', cleanText)\n",
        "    cleanText = re.sub(r'[^\\x00-\\x7f]', ' ', cleanText)\n",
        "    cleanText = re.sub('\\s+', ' ', cleanText)\n",
        "    return cleanText"
      ],
      "metadata": {
        "id": "Csj0W_OKPCmt"
      },
      "execution_count": 11,
      "outputs": []
    },
    {
      "cell_type": "code",
      "source": [
        "df['Resume'] = df['Resume'].apply(lambda x: cleanResume(x))"
      ],
      "metadata": {
        "id": "58CXodzqPW8T"
      },
      "execution_count": 12,
      "outputs": []
    },
    {
      "cell_type": "code",
      "source": [
        "df['Resume'][0]"
      ],
      "metadata": {
        "colab": {
          "base_uri": "https://localhost:8080/",
          "height": 140
        },
        "id": "OV-ZT4DtPje9",
        "outputId": "c1c84c5f-bf54-4e87-b691-db4c09d47be2"
      },
      "execution_count": 13,
      "outputs": [
        {
          "output_type": "execute_result",
          "data": {
            "text/plain": [
              "'Skills Programming Languages Python pandas numpy scipy scikit learn matplotlib Sql Java JavaScript JQuery Machine learning Regression SVM Na ve Bayes KNN Random Forest Decision Trees Boosting techniques Cluster Analysis Word Embedding Sentiment Analysis Natural Language processing Dimensionality reduction Topic Modelling LDA NMF PCA Neural Nets Database Visualizations Mysql SqlServer Cassandra Hbase ElasticSearch D3 js DC js Plotly kibana matplotlib ggplot Tableau Others Regular Expression HTML CSS Angular 6 Logstash Kafka Python Flask Git Docker computer vision Open CV and understanding of Deep learning Education Details Data Science Assurance Associate Data Science Assurance Associate Ernst Young LLP Skill Details JAVASCRIPT Exprience 24 months jQuery Exprience 24 months Python Exprience 24 monthsCompany Details company Ernst Young LLP description Fraud Investigations and Dispute Services Assurance TECHNOLOGY ASSISTED REVIEW TAR Technology Assisted Review assists in a elerating the review process and run analytics and generate reports Core member of a team helped in developing automated review platform tool from scratch for assisting E discovery domain this tool implements predictive coding and topic modelling by automating reviews resulting in reduced labor costs and time spent during the lawyers review Understand the end to end flow of the solution doing research and development for classification models predictive analysis and mining of the information present in text data Worked on analyzing the outputs and precision monitoring for the entire tool TAR assists in predictive coding topic modelling from the evidence by following EY standards Developed the classifier models in order to identify red flags and fraud related issues Tools Technologies Python scikit learn tfidf word2vec doc2vec cosine similarity Na ve Bayes LDA NMF for topic modelling Vader and text blob for sentiment analysis Matplot lib Tableau dashboard for reporting MULTIPLE DATA SCIENCE AND ANALYTIC PROJECTS USA CLIENTS TEXT ANALYTICS MOTOR VEHICLE CUSTOMER REVIEW DATA Received customer feedback survey data for past one year Performed sentiment Positive Negative Neutral and time series analysis on customer comments across all 4 categories Created heat map of terms by survey category based on frequency of words Extracted Positive and Negative words across all the Survey categories and plotted Word cloud Created customized tableau dashboards for effective reporting and visualizations CHATBOT Developed a user friendly chatbot for one of our Products which handle simple questions about hours of operation reservation options and so on This chat bot serves entire product related questions Giving overview of tool via QA platform and also give recommendation responses so that user question to build chain of relevant answer This too has intelligence to build the pipeline of questions as per user requirement and asks the relevant recommended questions Tools Technologies Python Natural language processing NLTK spacy topic modelling Sentiment analysis Word Embedding scikit learn JavaScript JQuery SqlServer INFORMATION GOVERNANCE Organizations to make informed decisions about all of the information they store The integrated Information Governance portfolio synthesizes intelligence across unstructured data sources and facilitates action to ensure organizations are best positioned to counter information risk Scan data from multiple sources of formats and parse different file formats extract Meta data information push results for indexing elastic search and created customized interactive dashboards using kibana Preforming ROT Analysis on the data which give information of data which helps identify content that is either Redundant Outdated or Trivial Preforming full text search analysis on elastic search with predefined methods which can tag as PII personally identifiable information social security numbers addresses names etc which frequently targeted during cyber attacks Tools Technologies Python Flask Elastic Search Kibana FRAUD ANALYTIC PLATFORM Fraud Analytics and investigative platform to review all red flag cases FAP is a Fraud Analytics and investigative platform with inbuilt case manager and suite of Analytics for various ERP systems It can be used by clients to interrogate their A ounting systems for identifying the anomalies which can be indicators of fraud by running advanced analytics Tools Technologies HTML JavaScript SqlServer JQuery CSS Bootstrap Node js D3 js DC js'"
            ],
            "application/vnd.google.colaboratory.intrinsic+json": {
              "type": "string"
            }
          },
          "metadata": {},
          "execution_count": 13
        }
      ]
    },
    {
      "cell_type": "code",
      "source": [
        "#words into categorical values"
      ],
      "metadata": {
        "id": "jPyZqFGbPm_i"
      },
      "execution_count": 14,
      "outputs": []
    },
    {
      "cell_type": "code",
      "source": [
        "from sklearn.preprocessing import LabelEncoder\n",
        "le = LabelEncoder()\n",
        "df['Category'] = le.fit_transform(df['Category'])"
      ],
      "metadata": {
        "id": "iFTCjWdcQihx"
      },
      "execution_count": 15,
      "outputs": []
    },
    {
      "cell_type": "code",
      "source": [
        "df.Category.unique()"
      ],
      "metadata": {
        "colab": {
          "base_uri": "https://localhost:8080/"
        },
        "id": "6JUajyvRQuNc",
        "outputId": "ce173a60-fa57-46b0-977f-74b39febf02f"
      },
      "execution_count": 16,
      "outputs": [
        {
          "output_type": "execute_result",
          "data": {
            "text/plain": [
              "array([ 6, 12,  0,  1, 24, 16, 22, 14,  5, 15,  4, 21,  2, 11, 18, 20,  8,\n",
              "       17, 19,  7, 13, 10,  9,  3, 23])"
            ]
          },
          "metadata": {},
          "execution_count": 16
        }
      ]
    },
    {
      "cell_type": "code",
      "source": [
        "#Vectorization"
      ],
      "metadata": {
        "id": "2kzhgs6JQzGp"
      },
      "execution_count": 17,
      "outputs": []
    },
    {
      "cell_type": "code",
      "source": [
        "from sklearn.feature_extraction.text import TfidfVectorizer\n",
        "tf = TfidfVectorizer()\n",
        "x = tf.fit_transform(df['Resume'])\n",
        "y = df['Category']"
      ],
      "metadata": {
        "id": "uEFjJYZrTDqD"
      },
      "execution_count": 18,
      "outputs": []
    },
    {
      "cell_type": "code",
      "source": [
        "x"
      ],
      "metadata": {
        "colab": {
          "base_uri": "https://localhost:8080/"
        },
        "id": "P316yZ6lTfvn",
        "outputId": "63ec52ae-acac-4ebd-dbdb-e98e0e680f2b"
      },
      "execution_count": 19,
      "outputs": [
        {
          "output_type": "execute_result",
          "data": {
            "text/plain": [
              "<962x7566 sparse matrix of type '<class 'numpy.float64'>'\n",
              "\twith 186888 stored elements in Compressed Sparse Row format>"
            ]
          },
          "metadata": {},
          "execution_count": 19
        }
      ]
    },
    {
      "cell_type": "code",
      "source": [
        "y.head()"
      ],
      "metadata": {
        "colab": {
          "base_uri": "https://localhost:8080/",
          "height": 241
        },
        "id": "0u7Rxh7QTpur",
        "outputId": "b8a9eb64-2e60-48b6-ecea-c24be83ee28d"
      },
      "execution_count": 20,
      "outputs": [
        {
          "output_type": "execute_result",
          "data": {
            "text/plain": [
              "0    6\n",
              "1    6\n",
              "2    6\n",
              "3    6\n",
              "4    6\n",
              "Name: Category, dtype: int64"
            ],
            "text/html": [
              "<div>\n",
              "<style scoped>\n",
              "    .dataframe tbody tr th:only-of-type {\n",
              "        vertical-align: middle;\n",
              "    }\n",
              "\n",
              "    .dataframe tbody tr th {\n",
              "        vertical-align: top;\n",
              "    }\n",
              "\n",
              "    .dataframe thead th {\n",
              "        text-align: right;\n",
              "    }\n",
              "</style>\n",
              "<table border=\"1\" class=\"dataframe\">\n",
              "  <thead>\n",
              "    <tr style=\"text-align: right;\">\n",
              "      <th></th>\n",
              "      <th>Category</th>\n",
              "    </tr>\n",
              "  </thead>\n",
              "  <tbody>\n",
              "    <tr>\n",
              "      <th>0</th>\n",
              "      <td>6</td>\n",
              "    </tr>\n",
              "    <tr>\n",
              "      <th>1</th>\n",
              "      <td>6</td>\n",
              "    </tr>\n",
              "    <tr>\n",
              "      <th>2</th>\n",
              "      <td>6</td>\n",
              "    </tr>\n",
              "    <tr>\n",
              "      <th>3</th>\n",
              "      <td>6</td>\n",
              "    </tr>\n",
              "    <tr>\n",
              "      <th>4</th>\n",
              "      <td>6</td>\n",
              "    </tr>\n",
              "  </tbody>\n",
              "</table>\n",
              "</div><br><label><b>dtype:</b> int64</label>"
            ]
          },
          "metadata": {},
          "execution_count": 20
        }
      ]
    },
    {
      "cell_type": "code",
      "source": [
        "#splitting in training and test model"
      ],
      "metadata": {
        "id": "UjU0QnyBTscA"
      },
      "execution_count": 21,
      "outputs": []
    },
    {
      "cell_type": "code",
      "source": [
        "from sklearn.model_selection import train_test_split\n",
        "x_train,x_test,y_train,y_test = train_test_split(x,y,test_size=0.2,random_state=42)\n",
        "print(x_train.shape)\n",
        "print(x_test.shape)\n",
        "print(y_train.shape)\n",
        "print(y_test.shape)"
      ],
      "metadata": {
        "colab": {
          "base_uri": "https://localhost:8080/"
        },
        "id": "rEzIUe78Tzpt",
        "outputId": "343b7a38-9460-4b15-9c79-d0800e8d9705"
      },
      "execution_count": 22,
      "outputs": [
        {
          "output_type": "stream",
          "name": "stdout",
          "text": [
            "(769, 7566)\n",
            "(193, 7566)\n",
            "(769,)\n",
            "(193,)\n"
          ]
        }
      ]
    },
    {
      "cell_type": "code",
      "source": [
        "#Now let’s train the model and print the classification report:"
      ],
      "metadata": {
        "id": "AyYFwrCcUDgE"
      },
      "execution_count": 23,
      "outputs": []
    },
    {
      "cell_type": "code",
      "source": [
        "from sklearn.neighbors import KNeighborsClassifier\n",
        "from sklearn.multiclass import OneVsRestClassifier\n",
        "from sklearn.metrics import accuracy_score\n",
        "\n",
        "clf = OneVsRestClassifier(KNeighborsClassifier())\n",
        "clf.fit(x_train,y_train)\n",
        "ypred = clf.predict(x_test)\n",
        "print(accuracy_score(y_test,ypred))"
      ],
      "metadata": {
        "colab": {
          "base_uri": "https://localhost:8080/"
        },
        "id": "Em47jHzrUH_7",
        "outputId": "e892fe90-43d3-42a7-8838-ac76dcbc853e"
      },
      "execution_count": 24,
      "outputs": [
        {
          "output_type": "stream",
          "name": "stdout",
          "text": [
            "0.9844559585492227\n"
          ]
        }
      ]
    },
    {
      "cell_type": "code",
      "source": [
        "ypred"
      ],
      "metadata": {
        "colab": {
          "base_uri": "https://localhost:8080/"
        },
        "id": "X2hGM60gUvMH",
        "outputId": "c9521253-b4fe-414a-8bec-fa8384d98336"
      },
      "execution_count": 25,
      "outputs": [
        {
          "output_type": "execute_result",
          "data": {
            "text/plain": [
              "array([15, 15, 15, 13, 14, 17, 16,  2,  0, 14, 13, 12, 16, 23, 20,  5,  6,\n",
              "        4, 10,  9, 19,  1, 10, 23, 23, 21, 22, 22,  2, 12, 18,  1,  8, 24,\n",
              "       11, 23,  7, 12, 24,  8, 18,  6,  8, 19, 24, 23, 21,  1, 15,  4, 15,\n",
              "       22, 11,  5, 15, 13,  1, 19,  5, 12, 22, 22, 20, 24, 21, 18, 12, 10,\n",
              "       10, 20, 10,  8,  9, 21, 17, 21,  0, 17, 16, 14, 15, 11, 11,  8, 20,\n",
              "        3, 19,  8,  0,  2,  9, 10,  2, 23, 20, 20, 23, 12, 18, 12,  7, 16,\n",
              "        8, 14, 18,  3, 14, 19, 14, 14, 15, 18,  8,  2, 21, 18, 23, 10, 23,\n",
              "        5, 11, 15, 12,  3,  5,  3,  7, 12, 19,  8, 20, 19,  3, 15,  9, 19,\n",
              "        1, 23, 21,  5, 20, 15, 16,  7,  7,  8, 15, 18,  1, 15, 13, 20,  7,\n",
              "        4, 18, 11,  5, 15,  5, 12,  9, 22, 18, 21,  8, 23,  4, 12, 24, 16,\n",
              "       15, 22,  8, 22,  3, 16, 23, 23, 12,  7, 16, 18,  5,  3, 18,  8, 23,\n",
              "       23, 20, 21,  6,  7, 23])"
            ]
          },
          "metadata": {},
          "execution_count": 25
        }
      ]
    },
    {
      "cell_type": "code",
      "source": [
        "#prediction\n"
      ],
      "metadata": {
        "id": "UnLEoNXTU5dc"
      },
      "execution_count": 26,
      "outputs": []
    },
    {
      "cell_type": "code",
      "source": [
        "import pickle\n",
        "pickle.dump(tf,open('tfidf.pkl','wb'))\n",
        "pickle.dump(clf, open('clf.pkl', 'wb'))"
      ],
      "metadata": {
        "id": "biv1NdNiU_3h"
      },
      "execution_count": 27,
      "outputs": []
    },
    {
      "cell_type": "code",
      "source": [
        "myresume=\"\"\"\n",
        "I.T. Skills Ã¢Â€Â¢ Windows XP, Ms Office (Word, Excel: Look-ups; Pivot table; other basic functions ; Power Point) Ã¢Â€Â¢ Saral Payment Package- payroll software Ã¢Â€Â¢ Internet ApplicationsEducation Details\n",
        "January 2006 Bachelor in Hospitality Management International Hospitality Management  Queen Margaret University Edinburg\n",
        "January 2006 diploma Hotel Management  International Institute of Hotel Management\n",
        "HR\n",
        "\n",
        "\n",
        "Skill Details\n",
        "Hr Management- Exprience - Less than 1 year monthsCompany Details\n",
        "company - Atri Developers\n",
        "description - Ã¢Â€Â¢ HR Payroll Statutory Compliance Performance Management\n",
        "company -\n",
        "description - Employee Relations and Administration: Creating industry specific Policies, Procedure, Forms, Formats, Letters, Checklists etc\n",
        "\n",
        "Payroll Management: Salary restructuring to process payroll of 600 employees.\n",
        "Ã¢Â€Â¢ Validation of all input (Attendance, Leaves, and Salaries) before starting salary process.\n",
        "Ã¢Â€Â¢ Processing accurate & error free salary of employees.\n",
        "Ã¢Â€Â¢ Responsible for compensation and benefits administration.\n",
        "Ã¢Â€Â¢ Coordinate with Accounts team for salary processing.\n",
        "Ã¢Â€Â¢ Attendance & Leave record management\n",
        "Ã¢Â€Â¢ Assuring prompt and satisfactory resolution of payroll related queries of all employees.\n",
        "\n",
        "Statutory Compliance Management:\n",
        "Ã¢Â€Â¢  Manage various statutory compliance requirements (PF, ESIC, PT, Gratuity, TDS etc calculations, deduction, payment and return filing.\n",
        "Ã¢Â€Â¢ Generate statutory reports like Form 16, Form 24Q. Conducting session with employees on Statutory Policies and procedure, compliance related topics.\n",
        "Ã¢Â€Â¢ Shops and Commercial Establishments Act (S&E)\n",
        "Ã¢Â€Â¢ The Payment of Gratuity Act 1972\n",
        "Recruitment and Selection: Handling recruitment like job posting in naukri portal and coordination. Create annual manpower plan and budget. Screen and schedule preliminary interview. Arrange for employee orientation. Handling joining formalities and salary account opening formalities.\n",
        "\n",
        "Performance Management: End to end facilitation of PMS starting from creating Job Description & Appraisal Forms to Disbursement of Letters. KRA setting, Mid-year reviews, Annual reviews, handling all appraisal activities (360 Degree)\n",
        "\n",
        "Training and Development: Conduct training need analysis and arrange various training session.\n",
        "\n",
        "Employee engagement and  Employee Welfare: Creation and deployment  of Sales  Rewards and Recognition Schemes, Periodic Interactive sessions like Monthly Birthday Celebration, Annual Day, Diwali Dhamaka, Offsite etc.\n",
        "Working on Saral Payment Package- payroll software as well as on excel\n",
        "Assisting MD in HR works, offering suggestions and answering employee queries on payroll compliance related issues, other benefits (insurance, medical, reimbursement, ), full & final settlement of resigned employees.\n",
        "\"\"\""
      ],
      "metadata": {
        "id": "9BG2i6rYVsNf"
      },
      "execution_count": 31,
      "outputs": []
    },
    {
      "cell_type": "code",
      "source": [
        "import pickle\n",
        "\n",
        "# Load the trained classifier\n",
        "clf = pickle.load(open('clf.pkl', 'rb'))\n",
        "\n",
        "# Clean the input resume\n",
        "cleaned_resume = cleanResume(myresume)\n",
        "\n",
        "# Transform the cleaned resume using the trained TfidfVectorizer\n",
        "input_features = tf.transform([cleaned_resume])\n",
        "\n",
        "# Make the prediction using the loaded classifier\n",
        "prediction_id = clf.predict(input_features)[0]\n",
        "\n",
        "# Map category ID to category name\n",
        "category_mapping = {\n",
        "    15: \"Java Developer\",\n",
        "    23: \"Testing\",\n",
        "    8: \"DevOps Engineer\",\n",
        "    20: \"Python Developer\",\n",
        "    24: \"Web Designing\",\n",
        "    12: \"HR\",\n",
        "    13: \"Hadoop\",\n",
        "    3: \"Blockchain\",\n",
        "    10: \"ETL Developer\",\n",
        "    18: \"Operations Manager\",\n",
        "    6: \"Data Science\",\n",
        "    22: \"Sales\",\n",
        "    16: \"Mechanical Engineer\",\n",
        "    1: \"Arts\",\n",
        "    7: \"Database\",\n",
        "    11: \"Electrical Engineering\",\n",
        "    14: \"Health and fitness\",\n",
        "    19: \"PMO\",\n",
        "    4: \"Business Analyst\",\n",
        "    9: \"DotNet Developer\",\n",
        "    2: \"Automation Testing\",\n",
        "    17: \"Network Security Engineer\",\n",
        "    21: \"SAP Developer\",\n",
        "    5: \"Civil Engineer\",\n",
        "    0: \"Advocate\",\n",
        "}\n",
        "\n",
        "category_name = category_mapping.get(prediction_id, \"Unknown\")\n",
        "\n",
        "print(\"Predicted Category:\", category_name)\n",
        "print(prediction_id)"
      ],
      "metadata": {
        "colab": {
          "base_uri": "https://localhost:8080/"
        },
        "id": "dR5P0G4M5D41",
        "outputId": "330e5321-d181-459e-ef15-5f0075a87ddf"
      },
      "execution_count": 32,
      "outputs": [
        {
          "output_type": "stream",
          "name": "stdout",
          "text": [
            "Predicted Category: HR\n",
            "12\n"
          ]
        }
      ]
    },
    {
      "cell_type": "code",
      "source": [],
      "metadata": {
        "id": "jGaSNKr05Yj4"
      },
      "execution_count": null,
      "outputs": []
    }
  ]
}